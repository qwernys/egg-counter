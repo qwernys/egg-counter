{
 "cells": [
  {
   "cell_type": "code",
   "execution_count": 1,
   "metadata": {},
   "outputs": [],
   "source": [
    "from ultralytics import YOLO"
   ]
  },
  {
   "cell_type": "code",
   "execution_count": null,
   "metadata": {},
   "outputs": [
    {
     "name": "stdout",
     "output_type": "stream",
     "text": [
      "Ultralytics 8.3.147  Python-3.13.3 torch-2.7.0+cu118 CUDA:0 (NVIDIA GeForce RTX 3070, 8192MiB)\n",
      "\u001b[34m\u001b[1mengine\\trainer: \u001b[0magnostic_nms=False, amp=True, augment=True, auto_augment=randaugment, batch=16, bgr=0.0, box=7.5, cache=False, cfg=None, classes=None, close_mosaic=10, cls=0.5, conf=None, copy_paste=0.0, copy_paste_mode=flip, cos_lr=False, cutmix=0.0, data=./EggCounterDatasetV2/data.yaml, degrees=0.0, deterministic=True, device=None, dfl=1.5, dnn=False, dropout=0.0, dynamic=False, embed=None, epochs=50, erasing=0.4, exist_ok=False, fliplr=0.5, flipud=0.0, format=torchscript, fraction=1.0, freeze=None, half=False, hsv_h=0.015, hsv_s=0.7, hsv_v=0.4, imgsz=640, int8=False, iou=0.7, keras=False, kobj=1.0, line_width=None, lr0=0.01, lrf=0.01, mask_ratio=4, max_det=300, mixup=0.0, mode=train, model=yolov8s.pt, momentum=0.937, mosaic=1.0, multi_scale=False, name=egg-counter4, nbs=64, nms=False, opset=None, optimize=False, optimizer=auto, overlap_mask=True, patience=100, perspective=0.0, plots=True, pose=12.0, pretrained=True, profile=False, project=None, rect=False, resume=False, retina_masks=False, save=True, save_conf=False, save_crop=False, save_dir=runs\\detect\\egg-counter4, save_frames=False, save_json=False, save_period=-1, save_txt=False, scale=0.5, seed=0, shear=0.0, show=False, show_boxes=True, show_conf=True, show_labels=True, simplify=True, single_cls=False, source=None, split=val, stream_buffer=False, task=detect, time=None, tracker=botsort.yaml, translate=0.1, val=True, verbose=True, vid_stride=1, visualize=False, warmup_bias_lr=0.1, warmup_epochs=3.0, warmup_momentum=0.8, weight_decay=0.0005, workers=4, workspace=None\n",
      "Overriding model.yaml nc=80 with nc=1\n",
      "\n",
      "                   from  n    params  module                                       arguments                     \n",
      "  0                  -1  1       928  ultralytics.nn.modules.conv.Conv             [3, 32, 3, 2]                 \n",
      "  1                  -1  1     18560  ultralytics.nn.modules.conv.Conv             [32, 64, 3, 2]                \n",
      "  2                  -1  1     29056  ultralytics.nn.modules.block.C2f             [64, 64, 1, True]             \n",
      "  3                  -1  1     73984  ultralytics.nn.modules.conv.Conv             [64, 128, 3, 2]               \n",
      "  4                  -1  2    197632  ultralytics.nn.modules.block.C2f             [128, 128, 2, True]           \n",
      "  5                  -1  1    295424  ultralytics.nn.modules.conv.Conv             [128, 256, 3, 2]              \n",
      "  6                  -1  2    788480  ultralytics.nn.modules.block.C2f             [256, 256, 2, True]           \n",
      "  7                  -1  1   1180672  ultralytics.nn.modules.conv.Conv             [256, 512, 3, 2]              \n",
      "  8                  -1  1   1838080  ultralytics.nn.modules.block.C2f             [512, 512, 1, True]           \n",
      "  9                  -1  1    656896  ultralytics.nn.modules.block.SPPF            [512, 512, 5]                 \n",
      " 10                  -1  1         0  torch.nn.modules.upsampling.Upsample         [None, 2, 'nearest']          \n",
      " 11             [-1, 6]  1         0  ultralytics.nn.modules.conv.Concat           [1]                           \n",
      " 12                  -1  1    591360  ultralytics.nn.modules.block.C2f             [768, 256, 1]                 \n",
      " 13                  -1  1         0  torch.nn.modules.upsampling.Upsample         [None, 2, 'nearest']          \n",
      " 14             [-1, 4]  1         0  ultralytics.nn.modules.conv.Concat           [1]                           \n",
      " 15                  -1  1    148224  ultralytics.nn.modules.block.C2f             [384, 128, 1]                 \n",
      " 16                  -1  1    147712  ultralytics.nn.modules.conv.Conv             [128, 128, 3, 2]              \n",
      " 17            [-1, 12]  1         0  ultralytics.nn.modules.conv.Concat           [1]                           \n",
      " 18                  -1  1    493056  ultralytics.nn.modules.block.C2f             [384, 256, 1]                 \n",
      " 19                  -1  1    590336  ultralytics.nn.modules.conv.Conv             [256, 256, 3, 2]              \n",
      " 20             [-1, 9]  1         0  ultralytics.nn.modules.conv.Concat           [1]                           \n",
      " 21                  -1  1   1969152  ultralytics.nn.modules.block.C2f             [768, 512, 1]                 \n",
      " 22        [15, 18, 21]  1   2116435  ultralytics.nn.modules.head.Detect           [1, [128, 256, 512]]          \n",
      "Model summary: 129 layers, 11,135,987 parameters, 11,135,971 gradients, 28.6 GFLOPs\n",
      "\n",
      "Transferred 349/355 items from pretrained weights\n",
      "Freezing layer 'model.22.dfl.conv.weight'\n",
      "\u001b[34m\u001b[1mAMP: \u001b[0mrunning Automatic Mixed Precision (AMP) checks...\n",
      "\u001b[34m\u001b[1mAMP: \u001b[0mchecks passed \n",
      "\u001b[34m\u001b[1mtrain: \u001b[0mFast image access  (ping: 0.10.0 ms, read: 1554.3413.3 MB/s, size: 205.5 KB)\n"
     ]
    },
    {
     "name": "stderr",
     "output_type": "stream",
     "text": [
      "\u001b[34m\u001b[1mtrain: \u001b[0mScanning C:\\Users\\kevin\\Desktop\\Egg-Detector\\EggCounterDatasetV2\\train\\labels.cache... 502 images, 8 backgrounds, 0 corrupt: 100%|██████████| 502/502 [00:00<?, ?it/s]\n"
     ]
    },
    {
     "name": "stdout",
     "output_type": "stream",
     "text": [
      "\u001b[34m\u001b[1mval: \u001b[0mFast image access  (ping: 0.10.0 ms, read: 1424.3244.3 MB/s, size: 200.3 KB)\n"
     ]
    },
    {
     "name": "stderr",
     "output_type": "stream",
     "text": [
      "\u001b[34m\u001b[1mval: \u001b[0mScanning C:\\Users\\kevin\\Desktop\\Egg-Detector\\EggCounterDatasetV2\\valid\\labels.cache... 168 images, 0 backgrounds, 0 corrupt: 100%|██████████| 168/168 [00:00<?, ?it/s]\n"
     ]
    },
    {
     "name": "stdout",
     "output_type": "stream",
     "text": [
      "Plotting labels to runs\\detect\\egg-counter4\\labels.jpg... \n",
      "\u001b[34m\u001b[1moptimizer:\u001b[0m 'optimizer=auto' found, ignoring 'lr0=0.01' and 'momentum=0.937' and determining best 'optimizer', 'lr0' and 'momentum' automatically... \n",
      "\u001b[34m\u001b[1moptimizer:\u001b[0m AdamW(lr=0.002, momentum=0.9) with parameter groups 57 weight(decay=0.0), 64 weight(decay=0.0005), 63 bias(decay=0.0)\n",
      "Image sizes 640 train, 640 val\n",
      "Using 4 dataloader workers\n",
      "Logging results to \u001b[1mruns\\detect\\egg-counter4\u001b[0m\n",
      "Starting training for 50 epochs...\n",
      "\n",
      "      Epoch    GPU_mem   box_loss   cls_loss   dfl_loss  Instances       Size\n"
     ]
    },
    {
     "name": "stderr",
     "output_type": "stream",
     "text": [
      "       1/50      3.74G     0.8576      1.367     0.9906         64        640: 100%|██████████| 32/32 [00:06<00:00,  4.85it/s]\n",
      "                 Class     Images  Instances      Box(P          R      mAP50  mAP50-95): 100%|██████████| 6/6 [00:01<00:00,  5.22it/s]"
     ]
    },
    {
     "name": "stdout",
     "output_type": "stream",
     "text": [
      "                   all        168       1289      0.981      0.945       0.98      0.878\n"
     ]
    },
    {
     "name": "stderr",
     "output_type": "stream",
     "text": [
      "\n"
     ]
    },
    {
     "name": "stdout",
     "output_type": "stream",
     "text": [
      "\n",
      "      Epoch    GPU_mem   box_loss   cls_loss   dfl_loss  Instances       Size\n"
     ]
    },
    {
     "name": "stderr",
     "output_type": "stream",
     "text": [
      "       2/50      3.97G     0.4839     0.3983     0.8276        101        640: 100%|██████████| 32/32 [00:05<00:00,  5.60it/s]\n",
      "                 Class     Images  Instances      Box(P          R      mAP50  mAP50-95): 100%|██████████| 6/6 [00:00<00:00,  6.01it/s]"
     ]
    },
    {
     "name": "stdout",
     "output_type": "stream",
     "text": [
      "                   all        168       1289      0.979      0.865      0.968      0.849\n"
     ]
    },
    {
     "name": "stderr",
     "output_type": "stream",
     "text": [
      "\n"
     ]
    },
    {
     "name": "stdout",
     "output_type": "stream",
     "text": [
      "\n",
      "      Epoch    GPU_mem   box_loss   cls_loss   dfl_loss  Instances       Size\n"
     ]
    },
    {
     "name": "stderr",
     "output_type": "stream",
     "text": [
      "       3/50      3.97G     0.4514     0.3655     0.8259         91        640: 100%|██████████| 32/32 [00:05<00:00,  5.70it/s]\n",
      "                 Class     Images  Instances      Box(P          R      mAP50  mAP50-95): 100%|██████████| 6/6 [00:01<00:00,  5.70it/s]"
     ]
    },
    {
     "name": "stdout",
     "output_type": "stream",
     "text": [
      "                   all        168       1289      0.426      0.952      0.427      0.375\n"
     ]
    },
    {
     "name": "stderr",
     "output_type": "stream",
     "text": [
      "\n"
     ]
    },
    {
     "name": "stdout",
     "output_type": "stream",
     "text": [
      "\n",
      "      Epoch    GPU_mem   box_loss   cls_loss   dfl_loss  Instances       Size\n"
     ]
    },
    {
     "name": "stderr",
     "output_type": "stream",
     "text": [
      "       4/50         4G      0.475      0.361     0.8264         80        640: 100%|██████████| 32/32 [00:05<00:00,  5.96it/s]\n",
      "                 Class     Images  Instances      Box(P          R      mAP50  mAP50-95): 100%|██████████| 6/6 [00:01<00:00,  5.87it/s]"
     ]
    },
    {
     "name": "stdout",
     "output_type": "stream",
     "text": [
      "                   all        168       1289       0.98      0.973      0.993      0.907\n"
     ]
    },
    {
     "name": "stderr",
     "output_type": "stream",
     "text": [
      "\n"
     ]
    },
    {
     "name": "stdout",
     "output_type": "stream",
     "text": [
      "\n",
      "      Epoch    GPU_mem   box_loss   cls_loss   dfl_loss  Instances       Size\n"
     ]
    },
    {
     "name": "stderr",
     "output_type": "stream",
     "text": [
      "       5/50      3.53G      0.442      0.335     0.8219        100        640: 100%|██████████| 32/32 [00:05<00:00,  5.73it/s]\n",
      "                 Class     Images  Instances      Box(P          R      mAP50  mAP50-95): 100%|██████████| 6/6 [00:01<00:00,  5.96it/s]"
     ]
    },
    {
     "name": "stdout",
     "output_type": "stream",
     "text": [
      "                   all        168       1289       0.97      0.983      0.993      0.931\n"
     ]
    },
    {
     "name": "stderr",
     "output_type": "stream",
     "text": [
      "\n"
     ]
    },
    {
     "name": "stdout",
     "output_type": "stream",
     "text": [
      "\n",
      "      Epoch    GPU_mem   box_loss   cls_loss   dfl_loss  Instances       Size\n"
     ]
    },
    {
     "name": "stderr",
     "output_type": "stream",
     "text": [
      "       6/50      3.74G     0.4137     0.3256      0.815         51        640: 100%|██████████| 32/32 [00:05<00:00,  5.84it/s]\n",
      "                 Class     Images  Instances      Box(P          R      mAP50  mAP50-95): 100%|██████████| 6/6 [00:01<00:00,  5.97it/s]"
     ]
    },
    {
     "name": "stdout",
     "output_type": "stream",
     "text": [
      "                   all        168       1289      0.979      0.987      0.993      0.933\n"
     ]
    },
    {
     "name": "stderr",
     "output_type": "stream",
     "text": [
      "\n"
     ]
    },
    {
     "name": "stdout",
     "output_type": "stream",
     "text": [
      "\n",
      "      Epoch    GPU_mem   box_loss   cls_loss   dfl_loss  Instances       Size\n"
     ]
    },
    {
     "name": "stderr",
     "output_type": "stream",
     "text": [
      "       7/50      3.74G     0.3831     0.3047     0.8119         48        640: 100%|██████████| 32/32 [00:05<00:00,  5.82it/s]\n",
      "                 Class     Images  Instances      Box(P          R      mAP50  mAP50-95): 100%|██████████| 6/6 [00:00<00:00,  6.14it/s]"
     ]
    },
    {
     "name": "stdout",
     "output_type": "stream",
     "text": [
      "                   all        168       1289       0.98       0.97      0.992      0.941\n"
     ]
    },
    {
     "name": "stderr",
     "output_type": "stream",
     "text": [
      "\n"
     ]
    },
    {
     "name": "stdout",
     "output_type": "stream",
     "text": [
      "\n",
      "      Epoch    GPU_mem   box_loss   cls_loss   dfl_loss  Instances       Size\n"
     ]
    },
    {
     "name": "stderr",
     "output_type": "stream",
     "text": [
      "       8/50      3.77G     0.3924     0.2963     0.8117         69        640: 100%|██████████| 32/32 [00:05<00:00,  5.80it/s]\n",
      "                 Class     Images  Instances      Box(P          R      mAP50  mAP50-95): 100%|██████████| 6/6 [00:01<00:00,  5.78it/s]"
     ]
    },
    {
     "name": "stdout",
     "output_type": "stream",
     "text": [
      "                   all        168       1289      0.977      0.983      0.993      0.944\n"
     ]
    },
    {
     "name": "stderr",
     "output_type": "stream",
     "text": [
      "\n"
     ]
    },
    {
     "name": "stdout",
     "output_type": "stream",
     "text": [
      "\n",
      "      Epoch    GPU_mem   box_loss   cls_loss   dfl_loss  Instances       Size\n"
     ]
    },
    {
     "name": "stderr",
     "output_type": "stream",
     "text": [
      "       9/50      3.77G     0.3728       0.28     0.8087         98        640: 100%|██████████| 32/32 [00:05<00:00,  5.87it/s]\n",
      "                 Class     Images  Instances      Box(P          R      mAP50  mAP50-95): 100%|██████████| 6/6 [00:00<00:00,  6.04it/s]"
     ]
    },
    {
     "name": "stdout",
     "output_type": "stream",
     "text": [
      "                   all        168       1289      0.977      0.975      0.993      0.945\n"
     ]
    },
    {
     "name": "stderr",
     "output_type": "stream",
     "text": [
      "\n"
     ]
    },
    {
     "name": "stdout",
     "output_type": "stream",
     "text": [
      "\n",
      "      Epoch    GPU_mem   box_loss   cls_loss   dfl_loss  Instances       Size\n"
     ]
    },
    {
     "name": "stderr",
     "output_type": "stream",
     "text": [
      "      10/50      3.77G     0.3816     0.2815     0.8075         60        640: 100%|██████████| 32/32 [00:05<00:00,  5.95it/s]\n",
      "                 Class     Images  Instances      Box(P          R      mAP50  mAP50-95): 100%|██████████| 6/6 [00:01<00:00,  5.94it/s]"
     ]
    },
    {
     "name": "stdout",
     "output_type": "stream",
     "text": [
      "                   all        168       1289      0.972       0.98      0.993      0.947\n"
     ]
    },
    {
     "name": "stderr",
     "output_type": "stream",
     "text": [
      "\n"
     ]
    },
    {
     "name": "stdout",
     "output_type": "stream",
     "text": [
      "\n",
      "      Epoch    GPU_mem   box_loss   cls_loss   dfl_loss  Instances       Size\n"
     ]
    },
    {
     "name": "stderr",
     "output_type": "stream",
     "text": [
      "      11/50      3.77G     0.3646     0.2721     0.8078         85        640: 100%|██████████| 32/32 [00:05<00:00,  5.93it/s]\n",
      "                 Class     Images  Instances      Box(P          R      mAP50  mAP50-95): 100%|██████████| 6/6 [00:01<00:00,  5.97it/s]"
     ]
    },
    {
     "name": "stdout",
     "output_type": "stream",
     "text": [
      "                   all        168       1289       0.98      0.975      0.993      0.953\n"
     ]
    },
    {
     "name": "stderr",
     "output_type": "stream",
     "text": [
      "\n"
     ]
    },
    {
     "name": "stdout",
     "output_type": "stream",
     "text": [
      "\n",
      "      Epoch    GPU_mem   box_loss   cls_loss   dfl_loss  Instances       Size\n"
     ]
    },
    {
     "name": "stderr",
     "output_type": "stream",
     "text": [
      "      12/50      3.77G     0.3689     0.2671     0.8082         46        640: 100%|██████████| 32/32 [00:05<00:00,  5.97it/s]\n",
      "                 Class     Images  Instances      Box(P          R      mAP50  mAP50-95): 100%|██████████| 6/6 [00:01<00:00,  5.70it/s]"
     ]
    },
    {
     "name": "stdout",
     "output_type": "stream",
     "text": [
      "                   all        168       1289      0.977      0.982      0.994       0.95\n"
     ]
    },
    {
     "name": "stderr",
     "output_type": "stream",
     "text": [
      "\n"
     ]
    },
    {
     "name": "stdout",
     "output_type": "stream",
     "text": [
      "\n",
      "      Epoch    GPU_mem   box_loss   cls_loss   dfl_loss  Instances       Size\n"
     ]
    },
    {
     "name": "stderr",
     "output_type": "stream",
     "text": [
      "      13/50      3.77G      0.352     0.2564     0.8052         89        640: 100%|██████████| 32/32 [00:05<00:00,  5.96it/s]\n",
      "                 Class     Images  Instances      Box(P          R      mAP50  mAP50-95): 100%|██████████| 6/6 [00:01<00:00,  5.83it/s]"
     ]
    },
    {
     "name": "stdout",
     "output_type": "stream",
     "text": [
      "                   all        168       1289      0.974      0.986      0.993      0.955\n"
     ]
    },
    {
     "name": "stderr",
     "output_type": "stream",
     "text": [
      "\n"
     ]
    },
    {
     "name": "stdout",
     "output_type": "stream",
     "text": [
      "\n",
      "      Epoch    GPU_mem   box_loss   cls_loss   dfl_loss  Instances       Size\n"
     ]
    },
    {
     "name": "stderr",
     "output_type": "stream",
     "text": [
      "      14/50      3.77G     0.3479     0.2597     0.7994         91        640: 100%|██████████| 32/32 [00:05<00:00,  5.94it/s]\n",
      "                 Class     Images  Instances      Box(P          R      mAP50  mAP50-95): 100%|██████████| 6/6 [00:01<00:00,  5.93it/s]"
     ]
    },
    {
     "name": "stdout",
     "output_type": "stream",
     "text": [
      "                   all        168       1289      0.979      0.985      0.993      0.955\n"
     ]
    },
    {
     "name": "stderr",
     "output_type": "stream",
     "text": [
      "\n"
     ]
    },
    {
     "name": "stdout",
     "output_type": "stream",
     "text": [
      "\n",
      "      Epoch    GPU_mem   box_loss   cls_loss   dfl_loss  Instances       Size\n"
     ]
    },
    {
     "name": "stderr",
     "output_type": "stream",
     "text": [
      "      15/50      3.77G     0.3462     0.2547     0.7995         64        640: 100%|██████████| 32/32 [00:05<00:00,  5.96it/s]\n",
      "                 Class     Images  Instances      Box(P          R      mAP50  mAP50-95): 100%|██████████| 6/6 [00:01<00:00,  5.76it/s]"
     ]
    },
    {
     "name": "stdout",
     "output_type": "stream",
     "text": [
      "                   all        168       1289      0.976      0.986      0.993      0.955\n"
     ]
    },
    {
     "name": "stderr",
     "output_type": "stream",
     "text": [
      "\n"
     ]
    },
    {
     "name": "stdout",
     "output_type": "stream",
     "text": [
      "\n",
      "      Epoch    GPU_mem   box_loss   cls_loss   dfl_loss  Instances       Size\n"
     ]
    },
    {
     "name": "stderr",
     "output_type": "stream",
     "text": [
      "      16/50      3.77G     0.3405     0.2536     0.8044         66        640: 100%|██████████| 32/32 [00:05<00:00,  5.94it/s]\n",
      "                 Class     Images  Instances      Box(P          R      mAP50  mAP50-95): 100%|██████████| 6/6 [00:01<00:00,  5.92it/s]"
     ]
    },
    {
     "name": "stdout",
     "output_type": "stream",
     "text": [
      "                   all        168       1289      0.978      0.978      0.993      0.957\n"
     ]
    },
    {
     "name": "stderr",
     "output_type": "stream",
     "text": [
      "\n"
     ]
    },
    {
     "name": "stdout",
     "output_type": "stream",
     "text": [
      "\n",
      "      Epoch    GPU_mem   box_loss   cls_loss   dfl_loss  Instances       Size\n"
     ]
    },
    {
     "name": "stderr",
     "output_type": "stream",
     "text": [
      "      17/50      3.77G     0.3282     0.2461     0.8008         75        640: 100%|██████████| 32/32 [00:05<00:00,  5.91it/s]\n",
      "                 Class     Images  Instances      Box(P          R      mAP50  mAP50-95): 100%|██████████| 6/6 [00:01<00:00,  5.88it/s]"
     ]
    },
    {
     "name": "stdout",
     "output_type": "stream",
     "text": [
      "                   all        168       1289      0.977      0.983      0.993      0.957\n"
     ]
    },
    {
     "name": "stderr",
     "output_type": "stream",
     "text": [
      "\n"
     ]
    },
    {
     "name": "stdout",
     "output_type": "stream",
     "text": [
      "\n",
      "      Epoch    GPU_mem   box_loss   cls_loss   dfl_loss  Instances       Size\n"
     ]
    },
    {
     "name": "stderr",
     "output_type": "stream",
     "text": [
      "      18/50      3.77G     0.3304       0.24     0.8029         95        640: 100%|██████████| 32/32 [00:05<00:00,  5.93it/s]\n",
      "                 Class     Images  Instances      Box(P          R      mAP50  mAP50-95): 100%|██████████| 6/6 [00:01<00:00,  5.82it/s]"
     ]
    },
    {
     "name": "stdout",
     "output_type": "stream",
     "text": [
      "                   all        168       1289      0.981      0.982      0.993      0.957\n"
     ]
    },
    {
     "name": "stderr",
     "output_type": "stream",
     "text": [
      "\n"
     ]
    },
    {
     "name": "stdout",
     "output_type": "stream",
     "text": [
      "\n",
      "      Epoch    GPU_mem   box_loss   cls_loss   dfl_loss  Instances       Size\n"
     ]
    },
    {
     "name": "stderr",
     "output_type": "stream",
     "text": [
      "      19/50      3.77G     0.3245     0.2384     0.8037         83        640: 100%|██████████| 32/32 [00:05<00:00,  5.97it/s]\n",
      "                 Class     Images  Instances      Box(P          R      mAP50  mAP50-95): 100%|██████████| 6/6 [00:01<00:00,  5.99it/s]"
     ]
    },
    {
     "name": "stdout",
     "output_type": "stream",
     "text": [
      "                   all        168       1289      0.979      0.984      0.993      0.956\n"
     ]
    },
    {
     "name": "stderr",
     "output_type": "stream",
     "text": [
      "\n"
     ]
    },
    {
     "name": "stdout",
     "output_type": "stream",
     "text": [
      "\n",
      "      Epoch    GPU_mem   box_loss   cls_loss   dfl_loss  Instances       Size\n"
     ]
    },
    {
     "name": "stderr",
     "output_type": "stream",
     "text": [
      "      20/50      3.77G     0.3295     0.2415     0.7999         66        640: 100%|██████████| 32/32 [00:05<00:00,  5.91it/s]\n",
      "                 Class     Images  Instances      Box(P          R      mAP50  mAP50-95): 100%|██████████| 6/6 [00:00<00:00,  6.01it/s]"
     ]
    },
    {
     "name": "stdout",
     "output_type": "stream",
     "text": [
      "                   all        168       1289      0.982      0.971      0.993      0.958\n"
     ]
    },
    {
     "name": "stderr",
     "output_type": "stream",
     "text": [
      "\n"
     ]
    },
    {
     "name": "stdout",
     "output_type": "stream",
     "text": [
      "\n",
      "      Epoch    GPU_mem   box_loss   cls_loss   dfl_loss  Instances       Size\n"
     ]
    },
    {
     "name": "stderr",
     "output_type": "stream",
     "text": [
      "      21/50      3.77G     0.3183     0.2302     0.7972         62        640: 100%|██████████| 32/32 [00:05<00:00,  5.82it/s]\n",
      "                 Class     Images  Instances      Box(P          R      mAP50  mAP50-95): 100%|██████████| 6/6 [00:01<00:00,  5.75it/s]"
     ]
    },
    {
     "name": "stdout",
     "output_type": "stream",
     "text": [
      "                   all        168       1289      0.979      0.985      0.993      0.957\n"
     ]
    },
    {
     "name": "stderr",
     "output_type": "stream",
     "text": [
      "\n"
     ]
    },
    {
     "name": "stdout",
     "output_type": "stream",
     "text": [
      "\n",
      "      Epoch    GPU_mem   box_loss   cls_loss   dfl_loss  Instances       Size\n"
     ]
    },
    {
     "name": "stderr",
     "output_type": "stream",
     "text": [
      "      22/50      3.77G     0.3172     0.2309     0.7982         82        640: 100%|██████████| 32/32 [00:05<00:00,  5.91it/s]\n",
      "                 Class     Images  Instances      Box(P          R      mAP50  mAP50-95): 100%|██████████| 6/6 [00:01<00:00,  5.99it/s]"
     ]
    },
    {
     "name": "stdout",
     "output_type": "stream",
     "text": [
      "                   all        168       1289      0.979      0.985      0.993      0.962\n"
     ]
    },
    {
     "name": "stderr",
     "output_type": "stream",
     "text": [
      "\n"
     ]
    },
    {
     "name": "stdout",
     "output_type": "stream",
     "text": [
      "\n",
      "      Epoch    GPU_mem   box_loss   cls_loss   dfl_loss  Instances       Size\n"
     ]
    },
    {
     "name": "stderr",
     "output_type": "stream",
     "text": [
      "      23/50      3.77G     0.3061     0.2264     0.8051         33        640: 100%|██████████| 32/32 [00:05<00:00,  5.83it/s]\n",
      "                 Class     Images  Instances      Box(P          R      mAP50  mAP50-95): 100%|██████████| 6/6 [00:01<00:00,  5.69it/s]"
     ]
    },
    {
     "name": "stdout",
     "output_type": "stream",
     "text": [
      "                   all        168       1289      0.974      0.978      0.993      0.961\n"
     ]
    },
    {
     "name": "stderr",
     "output_type": "stream",
     "text": [
      "\n"
     ]
    },
    {
     "name": "stdout",
     "output_type": "stream",
     "text": [
      "\n",
      "      Epoch    GPU_mem   box_loss   cls_loss   dfl_loss  Instances       Size\n"
     ]
    },
    {
     "name": "stderr",
     "output_type": "stream",
     "text": [
      "      24/50      3.77G     0.3091     0.2233      0.799         83        640: 100%|██████████| 32/32 [00:05<00:00,  5.94it/s]\n",
      "                 Class     Images  Instances      Box(P          R      mAP50  mAP50-95): 100%|██████████| 6/6 [00:01<00:00,  5.84it/s]"
     ]
    },
    {
     "name": "stdout",
     "output_type": "stream",
     "text": [
      "                   all        168       1289      0.969      0.989      0.993      0.962\n"
     ]
    },
    {
     "name": "stderr",
     "output_type": "stream",
     "text": [
      "\n"
     ]
    },
    {
     "name": "stdout",
     "output_type": "stream",
     "text": [
      "\n",
      "      Epoch    GPU_mem   box_loss   cls_loss   dfl_loss  Instances       Size\n"
     ]
    },
    {
     "name": "stderr",
     "output_type": "stream",
     "text": [
      "      25/50      3.77G     0.3098      0.226        0.8         74        640: 100%|██████████| 32/32 [00:05<00:00,  5.88it/s]\n",
      "                 Class     Images  Instances      Box(P          R      mAP50  mAP50-95): 100%|██████████| 6/6 [00:01<00:00,  5.88it/s]"
     ]
    },
    {
     "name": "stdout",
     "output_type": "stream",
     "text": [
      "                   all        168       1289      0.978      0.985      0.993       0.96\n"
     ]
    },
    {
     "name": "stderr",
     "output_type": "stream",
     "text": [
      "\n"
     ]
    },
    {
     "name": "stdout",
     "output_type": "stream",
     "text": [
      "\n",
      "      Epoch    GPU_mem   box_loss   cls_loss   dfl_loss  Instances       Size\n"
     ]
    },
    {
     "name": "stderr",
     "output_type": "stream",
     "text": [
      "      26/50      3.77G      0.305     0.2207      0.797         52        640: 100%|██████████| 32/32 [00:05<00:00,  5.88it/s]\n",
      "                 Class     Images  Instances      Box(P          R      mAP50  mAP50-95): 100%|██████████| 6/6 [00:00<00:00,  6.14it/s]"
     ]
    },
    {
     "name": "stdout",
     "output_type": "stream",
     "text": [
      "                   all        168       1289      0.966      0.986      0.993      0.963\n"
     ]
    },
    {
     "name": "stderr",
     "output_type": "stream",
     "text": [
      "\n"
     ]
    },
    {
     "name": "stdout",
     "output_type": "stream",
     "text": [
      "\n",
      "      Epoch    GPU_mem   box_loss   cls_loss   dfl_loss  Instances       Size\n"
     ]
    },
    {
     "name": "stderr",
     "output_type": "stream",
     "text": [
      "      27/50      3.77G     0.3092     0.2173     0.7952         88        640: 100%|██████████| 32/32 [00:05<00:00,  5.81it/s]\n",
      "                 Class     Images  Instances      Box(P          R      mAP50  mAP50-95): 100%|██████████| 6/6 [00:01<00:00,  5.87it/s]"
     ]
    },
    {
     "name": "stdout",
     "output_type": "stream",
     "text": [
      "                   all        168       1289      0.975      0.982      0.993      0.962\n"
     ]
    },
    {
     "name": "stderr",
     "output_type": "stream",
     "text": [
      "\n"
     ]
    },
    {
     "name": "stdout",
     "output_type": "stream",
     "text": [
      "\n",
      "      Epoch    GPU_mem   box_loss   cls_loss   dfl_loss  Instances       Size\n"
     ]
    },
    {
     "name": "stderr",
     "output_type": "stream",
     "text": [
      "      28/50      3.77G     0.2996     0.2126     0.7977         51        640: 100%|██████████| 32/32 [00:05<00:00,  5.93it/s]\n",
      "                 Class     Images  Instances      Box(P          R      mAP50  mAP50-95): 100%|██████████| 6/6 [00:01<00:00,  5.96it/s]"
     ]
    },
    {
     "name": "stdout",
     "output_type": "stream",
     "text": [
      "                   all        168       1289      0.981      0.978      0.993      0.965\n"
     ]
    },
    {
     "name": "stderr",
     "output_type": "stream",
     "text": [
      "\n"
     ]
    },
    {
     "name": "stdout",
     "output_type": "stream",
     "text": [
      "\n",
      "      Epoch    GPU_mem   box_loss   cls_loss   dfl_loss  Instances       Size\n"
     ]
    },
    {
     "name": "stderr",
     "output_type": "stream",
     "text": [
      "      29/50      3.77G     0.2826     0.2076     0.7922         59        640: 100%|██████████| 32/32 [00:05<00:00,  5.90it/s]\n",
      "                 Class     Images  Instances      Box(P          R      mAP50  mAP50-95): 100%|██████████| 6/6 [00:01<00:00,  5.94it/s]"
     ]
    },
    {
     "name": "stdout",
     "output_type": "stream",
     "text": [
      "                   all        168       1289      0.979      0.978      0.993      0.963\n"
     ]
    },
    {
     "name": "stderr",
     "output_type": "stream",
     "text": [
      "\n"
     ]
    },
    {
     "name": "stdout",
     "output_type": "stream",
     "text": [
      "\n",
      "      Epoch    GPU_mem   box_loss   cls_loss   dfl_loss  Instances       Size\n"
     ]
    },
    {
     "name": "stderr",
     "output_type": "stream",
     "text": [
      "      30/50      3.77G     0.2863     0.2054     0.7929         75        640: 100%|██████████| 32/32 [00:05<00:00,  5.88it/s]\n",
      "                 Class     Images  Instances      Box(P          R      mAP50  mAP50-95): 100%|██████████| 6/6 [00:01<00:00,  5.77it/s]"
     ]
    },
    {
     "name": "stdout",
     "output_type": "stream",
     "text": [
      "                   all        168       1289      0.979      0.991      0.994      0.966\n"
     ]
    },
    {
     "name": "stderr",
     "output_type": "stream",
     "text": [
      "\n"
     ]
    },
    {
     "name": "stdout",
     "output_type": "stream",
     "text": [
      "\n",
      "      Epoch    GPU_mem   box_loss   cls_loss   dfl_loss  Instances       Size\n"
     ]
    },
    {
     "name": "stderr",
     "output_type": "stream",
     "text": [
      "      31/50      3.77G     0.2922     0.2084     0.7955         72        640: 100%|██████████| 32/32 [00:05<00:00,  5.89it/s]\n",
      "                 Class     Images  Instances      Box(P          R      mAP50  mAP50-95): 100%|██████████| 6/6 [00:01<00:00,  5.76it/s]"
     ]
    },
    {
     "name": "stdout",
     "output_type": "stream",
     "text": [
      "                   all        168       1289      0.982      0.981      0.993      0.966\n"
     ]
    },
    {
     "name": "stderr",
     "output_type": "stream",
     "text": [
      "\n"
     ]
    },
    {
     "name": "stdout",
     "output_type": "stream",
     "text": [
      "\n",
      "      Epoch    GPU_mem   box_loss   cls_loss   dfl_loss  Instances       Size\n"
     ]
    },
    {
     "name": "stderr",
     "output_type": "stream",
     "text": [
      "      32/50      3.77G     0.2843      0.202     0.7937        112        640: 100%|██████████| 32/32 [00:05<00:00,  5.87it/s]\n",
      "                 Class     Images  Instances      Box(P          R      mAP50  mAP50-95): 100%|██████████| 6/6 [00:00<00:00,  6.03it/s]"
     ]
    },
    {
     "name": "stdout",
     "output_type": "stream",
     "text": [
      "                   all        168       1289      0.976      0.985      0.993      0.965\n"
     ]
    },
    {
     "name": "stderr",
     "output_type": "stream",
     "text": [
      "\n"
     ]
    },
    {
     "name": "stdout",
     "output_type": "stream",
     "text": [
      "\n",
      "      Epoch    GPU_mem   box_loss   cls_loss   dfl_loss  Instances       Size\n"
     ]
    },
    {
     "name": "stderr",
     "output_type": "stream",
     "text": [
      "      33/50      3.77G     0.2845     0.2039     0.7947         91        640: 100%|██████████| 32/32 [00:05<00:00,  5.84it/s]\n",
      "                 Class     Images  Instances      Box(P          R      mAP50  mAP50-95): 100%|██████████| 6/6 [00:01<00:00,  5.99it/s]"
     ]
    },
    {
     "name": "stdout",
     "output_type": "stream",
     "text": [
      "                   all        168       1289      0.975      0.991      0.993      0.964\n"
     ]
    },
    {
     "name": "stderr",
     "output_type": "stream",
     "text": [
      "\n"
     ]
    },
    {
     "name": "stdout",
     "output_type": "stream",
     "text": [
      "\n",
      "      Epoch    GPU_mem   box_loss   cls_loss   dfl_loss  Instances       Size\n"
     ]
    },
    {
     "name": "stderr",
     "output_type": "stream",
     "text": [
      "      34/50      3.77G     0.2814     0.2011     0.7928         77        640: 100%|██████████| 32/32 [00:05<00:00,  5.93it/s]\n",
      "                 Class     Images  Instances      Box(P          R      mAP50  mAP50-95): 100%|██████████| 6/6 [00:00<00:00,  6.05it/s]"
     ]
    },
    {
     "name": "stdout",
     "output_type": "stream",
     "text": [
      "                   all        168       1289      0.988      0.978      0.993      0.966\n"
     ]
    },
    {
     "name": "stderr",
     "output_type": "stream",
     "text": [
      "\n"
     ]
    },
    {
     "name": "stdout",
     "output_type": "stream",
     "text": [
      "\n",
      "      Epoch    GPU_mem   box_loss   cls_loss   dfl_loss  Instances       Size\n"
     ]
    },
    {
     "name": "stderr",
     "output_type": "stream",
     "text": [
      "      35/50      3.77G      0.281     0.1997     0.7898         61        640: 100%|██████████| 32/32 [00:05<00:00,  5.93it/s]\n",
      "                 Class     Images  Instances      Box(P          R      mAP50  mAP50-95): 100%|██████████| 6/6 [00:00<00:00,  6.01it/s]"
     ]
    },
    {
     "name": "stdout",
     "output_type": "stream",
     "text": [
      "                   all        168       1289      0.983      0.982      0.993      0.968\n"
     ]
    },
    {
     "name": "stderr",
     "output_type": "stream",
     "text": [
      "\n"
     ]
    },
    {
     "name": "stdout",
     "output_type": "stream",
     "text": [
      "\n",
      "      Epoch    GPU_mem   box_loss   cls_loss   dfl_loss  Instances       Size\n"
     ]
    },
    {
     "name": "stderr",
     "output_type": "stream",
     "text": [
      "      36/50      3.81G     0.2861     0.2017     0.7958         54        640: 100%|██████████| 32/32 [00:05<00:00,  5.95it/s]\n",
      "                 Class     Images  Instances      Box(P          R      mAP50  mAP50-95): 100%|██████████| 6/6 [00:01<00:00,  5.74it/s]"
     ]
    },
    {
     "name": "stdout",
     "output_type": "stream",
     "text": [
      "                   all        168       1289      0.974      0.987      0.993      0.967\n"
     ]
    },
    {
     "name": "stderr",
     "output_type": "stream",
     "text": [
      "\n"
     ]
    },
    {
     "name": "stdout",
     "output_type": "stream",
     "text": [
      "\n",
      "      Epoch    GPU_mem   box_loss   cls_loss   dfl_loss  Instances       Size\n"
     ]
    },
    {
     "name": "stderr",
     "output_type": "stream",
     "text": [
      "      37/50      3.81G     0.2744     0.1966     0.7922         63        640: 100%|██████████| 32/32 [00:05<00:00,  6.02it/s]\n",
      "                 Class     Images  Instances      Box(P          R      mAP50  mAP50-95): 100%|██████████| 6/6 [00:01<00:00,  5.95it/s]"
     ]
    },
    {
     "name": "stdout",
     "output_type": "stream",
     "text": [
      "                   all        168       1289      0.977       0.99      0.993      0.967\n"
     ]
    },
    {
     "name": "stderr",
     "output_type": "stream",
     "text": [
      "\n"
     ]
    },
    {
     "name": "stdout",
     "output_type": "stream",
     "text": [
      "\n",
      "      Epoch    GPU_mem   box_loss   cls_loss   dfl_loss  Instances       Size\n"
     ]
    },
    {
     "name": "stderr",
     "output_type": "stream",
     "text": [
      "      38/50      3.81G     0.2796     0.1949     0.7931         90        640: 100%|██████████| 32/32 [00:05<00:00,  5.98it/s]\n",
      "                 Class     Images  Instances      Box(P          R      mAP50  mAP50-95): 100%|██████████| 6/6 [00:00<00:00,  6.02it/s]"
     ]
    },
    {
     "name": "stdout",
     "output_type": "stream",
     "text": [
      "                   all        168       1289      0.982      0.988      0.994      0.969\n"
     ]
    },
    {
     "name": "stderr",
     "output_type": "stream",
     "text": [
      "\n"
     ]
    },
    {
     "name": "stdout",
     "output_type": "stream",
     "text": [
      "\n",
      "      Epoch    GPU_mem   box_loss   cls_loss   dfl_loss  Instances       Size\n"
     ]
    },
    {
     "name": "stderr",
     "output_type": "stream",
     "text": [
      "      39/50      3.81G     0.2679     0.1887     0.7923         29        640: 100%|██████████| 32/32 [00:05<00:00,  5.90it/s]\n",
      "                 Class     Images  Instances      Box(P          R      mAP50  mAP50-95): 100%|██████████| 6/6 [00:01<00:00,  5.78it/s]"
     ]
    },
    {
     "name": "stdout",
     "output_type": "stream",
     "text": [
      "                   all        168       1289      0.988      0.974      0.994      0.968\n"
     ]
    },
    {
     "name": "stderr",
     "output_type": "stream",
     "text": [
      "\n"
     ]
    },
    {
     "name": "stdout",
     "output_type": "stream",
     "text": [
      "\n",
      "      Epoch    GPU_mem   box_loss   cls_loss   dfl_loss  Instances       Size\n"
     ]
    },
    {
     "name": "stderr",
     "output_type": "stream",
     "text": [
      "      40/50      3.81G     0.2663     0.1868     0.7904         38        640: 100%|██████████| 32/32 [00:05<00:00,  5.91it/s]\n",
      "                 Class     Images  Instances      Box(P          R      mAP50  mAP50-95): 100%|██████████| 6/6 [00:01<00:00,  5.70it/s]"
     ]
    },
    {
     "name": "stdout",
     "output_type": "stream",
     "text": [
      "                   all        168       1289      0.977      0.987      0.993      0.966\n"
     ]
    },
    {
     "name": "stderr",
     "output_type": "stream",
     "text": [
      "\n"
     ]
    },
    {
     "name": "stdout",
     "output_type": "stream",
     "text": [
      "Closing dataloader mosaic\n",
      "\n",
      "      Epoch    GPU_mem   box_loss   cls_loss   dfl_loss  Instances       Size\n"
     ]
    },
    {
     "name": "stderr",
     "output_type": "stream",
     "text": [
      "      41/50      3.81G     0.2534     0.1841     0.7836         46        640: 100%|██████████| 32/32 [00:05<00:00,  5.78it/s]\n",
      "                 Class     Images  Instances      Box(P          R      mAP50  mAP50-95): 100%|██████████| 6/6 [00:00<00:00,  6.07it/s]"
     ]
    },
    {
     "name": "stdout",
     "output_type": "stream",
     "text": [
      "                   all        168       1289      0.982      0.985      0.993      0.969\n"
     ]
    },
    {
     "name": "stderr",
     "output_type": "stream",
     "text": [
      "\n"
     ]
    },
    {
     "name": "stdout",
     "output_type": "stream",
     "text": [
      "\n",
      "      Epoch    GPU_mem   box_loss   cls_loss   dfl_loss  Instances       Size\n"
     ]
    },
    {
     "name": "stderr",
     "output_type": "stream",
     "text": [
      "      42/50      3.81G     0.2507     0.1831     0.7786         45        640: 100%|██████████| 32/32 [00:05<00:00,  6.01it/s]\n",
      "                 Class     Images  Instances      Box(P          R      mAP50  mAP50-95): 100%|██████████| 6/6 [00:00<00:00,  6.01it/s]"
     ]
    },
    {
     "name": "stdout",
     "output_type": "stream",
     "text": [
      "                   all        168       1289      0.979      0.983      0.993      0.967\n"
     ]
    },
    {
     "name": "stderr",
     "output_type": "stream",
     "text": [
      "\n"
     ]
    },
    {
     "name": "stdout",
     "output_type": "stream",
     "text": [
      "\n",
      "      Epoch    GPU_mem   box_loss   cls_loss   dfl_loss  Instances       Size\n"
     ]
    },
    {
     "name": "stderr",
     "output_type": "stream",
     "text": [
      "      43/50      3.81G     0.2501     0.1816     0.7802         44        640: 100%|██████████| 32/32 [00:05<00:00,  5.88it/s]\n",
      "                 Class     Images  Instances      Box(P          R      mAP50  mAP50-95): 100%|██████████| 6/6 [00:01<00:00,  5.77it/s]"
     ]
    },
    {
     "name": "stdout",
     "output_type": "stream",
     "text": [
      "                   all        168       1289      0.975      0.993      0.994      0.967\n"
     ]
    },
    {
     "name": "stderr",
     "output_type": "stream",
     "text": [
      "\n"
     ]
    },
    {
     "name": "stdout",
     "output_type": "stream",
     "text": [
      "\n",
      "      Epoch    GPU_mem   box_loss   cls_loss   dfl_loss  Instances       Size\n"
     ]
    },
    {
     "name": "stderr",
     "output_type": "stream",
     "text": [
      "      44/50      3.81G     0.2482     0.1822     0.7791         26        640: 100%|██████████| 32/32 [00:05<00:00,  5.98it/s]\n",
      "                 Class     Images  Instances      Box(P          R      mAP50  mAP50-95): 100%|██████████| 6/6 [00:01<00:00,  5.96it/s]"
     ]
    },
    {
     "name": "stdout",
     "output_type": "stream",
     "text": [
      "                   all        168       1289      0.977      0.987      0.993      0.968\n"
     ]
    },
    {
     "name": "stderr",
     "output_type": "stream",
     "text": [
      "\n"
     ]
    },
    {
     "name": "stdout",
     "output_type": "stream",
     "text": [
      "\n",
      "      Epoch    GPU_mem   box_loss   cls_loss   dfl_loss  Instances       Size\n"
     ]
    },
    {
     "name": "stderr",
     "output_type": "stream",
     "text": [
      "      45/50      3.81G      0.239     0.1742     0.7778         31        640: 100%|██████████| 32/32 [00:05<00:00,  6.00it/s]\n",
      "                 Class     Images  Instances      Box(P          R      mAP50  mAP50-95): 100%|██████████| 6/6 [00:01<00:00,  5.91it/s]"
     ]
    },
    {
     "name": "stdout",
     "output_type": "stream",
     "text": [
      "                   all        168       1289      0.979      0.986      0.993      0.969\n"
     ]
    },
    {
     "name": "stderr",
     "output_type": "stream",
     "text": [
      "\n"
     ]
    },
    {
     "name": "stdout",
     "output_type": "stream",
     "text": [
      "\n",
      "      Epoch    GPU_mem   box_loss   cls_loss   dfl_loss  Instances       Size\n"
     ]
    },
    {
     "name": "stderr",
     "output_type": "stream",
     "text": [
      "      46/50      3.81G     0.2393     0.1734     0.7808         49        640: 100%|██████████| 32/32 [00:05<00:00,  6.08it/s]\n",
      "                 Class     Images  Instances      Box(P          R      mAP50  mAP50-95): 100%|██████████| 6/6 [00:00<00:00,  6.01it/s]"
     ]
    },
    {
     "name": "stdout",
     "output_type": "stream",
     "text": [
      "                   all        168       1289      0.976      0.991      0.993      0.969\n"
     ]
    },
    {
     "name": "stderr",
     "output_type": "stream",
     "text": [
      "\n"
     ]
    },
    {
     "name": "stdout",
     "output_type": "stream",
     "text": [
      "\n",
      "      Epoch    GPU_mem   box_loss   cls_loss   dfl_loss  Instances       Size\n"
     ]
    },
    {
     "name": "stderr",
     "output_type": "stream",
     "text": [
      "      47/50      3.81G     0.2372     0.1718     0.7754         38        640: 100%|██████████| 32/32 [00:05<00:00,  6.04it/s]\n",
      "                 Class     Images  Instances      Box(P          R      mAP50  mAP50-95): 100%|██████████| 6/6 [00:01<00:00,  5.98it/s]"
     ]
    },
    {
     "name": "stdout",
     "output_type": "stream",
     "text": [
      "                   all        168       1289      0.982      0.982      0.993       0.97\n"
     ]
    },
    {
     "name": "stderr",
     "output_type": "stream",
     "text": [
      "\n"
     ]
    },
    {
     "name": "stdout",
     "output_type": "stream",
     "text": [
      "\n",
      "      Epoch    GPU_mem   box_loss   cls_loss   dfl_loss  Instances       Size\n"
     ]
    },
    {
     "name": "stderr",
     "output_type": "stream",
     "text": [
      "      48/50      3.81G     0.2314      0.166     0.7738         41        640: 100%|██████████| 32/32 [00:05<00:00,  5.93it/s]\n",
      "                 Class     Images  Instances      Box(P          R      mAP50  mAP50-95): 100%|██████████| 6/6 [00:01<00:00,  5.97it/s]"
     ]
    },
    {
     "name": "stdout",
     "output_type": "stream",
     "text": [
      "                   all        168       1289      0.984      0.986      0.993       0.97\n"
     ]
    },
    {
     "name": "stderr",
     "output_type": "stream",
     "text": [
      "\n"
     ]
    },
    {
     "name": "stdout",
     "output_type": "stream",
     "text": [
      "\n",
      "      Epoch    GPU_mem   box_loss   cls_loss   dfl_loss  Instances       Size\n"
     ]
    },
    {
     "name": "stderr",
     "output_type": "stream",
     "text": [
      "      49/50      3.81G     0.2297     0.1644     0.7749         29        640: 100%|██████████| 32/32 [00:05<00:00,  6.01it/s]\n",
      "                 Class     Images  Instances      Box(P          R      mAP50  mAP50-95): 100%|██████████| 6/6 [00:01<00:00,  5.91it/s]"
     ]
    },
    {
     "name": "stdout",
     "output_type": "stream",
     "text": [
      "                   all        168       1289      0.984      0.985      0.994       0.97\n"
     ]
    },
    {
     "name": "stderr",
     "output_type": "stream",
     "text": [
      "\n"
     ]
    },
    {
     "name": "stdout",
     "output_type": "stream",
     "text": [
      "\n",
      "      Epoch    GPU_mem   box_loss   cls_loss   dfl_loss  Instances       Size\n"
     ]
    },
    {
     "name": "stderr",
     "output_type": "stream",
     "text": [
      "      50/50      3.81G     0.2271       0.16     0.7754         41        640: 100%|██████████| 32/32 [00:05<00:00,  6.02it/s]\n",
      "                 Class     Images  Instances      Box(P          R      mAP50  mAP50-95): 100%|██████████| 6/6 [00:01<00:00,  5.98it/s]"
     ]
    },
    {
     "name": "stdout",
     "output_type": "stream",
     "text": [
      "                   all        168       1289      0.985      0.983      0.993       0.97\n"
     ]
    },
    {
     "name": "stderr",
     "output_type": "stream",
     "text": [
      "\n"
     ]
    },
    {
     "name": "stdout",
     "output_type": "stream",
     "text": [
      "\n",
      "50 epochs completed in 0.103 hours.\n",
      "Optimizer stripped from runs\\detect\\egg-counter4\\weights\\last.pt, 22.5MB\n",
      "Optimizer stripped from runs\\detect\\egg-counter4\\weights\\best.pt, 22.5MB\n",
      "\n",
      "Validating runs\\detect\\egg-counter4\\weights\\best.pt...\n",
      "Ultralytics 8.3.147  Python-3.13.3 torch-2.7.0+cu118 CUDA:0 (NVIDIA GeForce RTX 3070, 8192MiB)\n",
      "Model summary (fused): 72 layers, 11,125,971 parameters, 0 gradients, 28.4 GFLOPs\n"
     ]
    },
    {
     "name": "stderr",
     "output_type": "stream",
     "text": [
      "                 Class     Images  Instances      Box(P          R      mAP50  mAP50-95): 100%|██████████| 6/6 [00:02<00:00,  2.77it/s]\n"
     ]
    },
    {
     "name": "stdout",
     "output_type": "stream",
     "text": [
      "                   all        168       1289      0.977      0.982      0.993      0.956\n",
      "Speed: 0.4ms preprocess, 4.7ms inference, 0.0ms loss, 3.0ms postprocess per image\n",
      "Results saved to \u001b[1mruns\\detect\\egg-counter4\u001b[0m\n"
     ]
    },
    {
     "data": {
      "text/plain": [
       "ultralytics.utils.metrics.DetMetrics object with attributes:\n",
       "\n",
       "ap_class_index: array([0])\n",
       "box: ultralytics.utils.metrics.Metric object\n",
       "confusion_matrix: <ultralytics.utils.metrics.ConfusionMatrix object at 0x000001EE2426E150>\n",
       "curves: ['Precision-Recall(B)', 'F1-Confidence(B)', 'Precision-Confidence(B)', 'Recall-Confidence(B)']\n",
       "curves_results: [[array([          0,    0.001001,    0.002002,    0.003003,    0.004004,    0.005005,    0.006006,    0.007007,    0.008008,    0.009009,     0.01001,    0.011011,    0.012012,    0.013013,    0.014014,    0.015015,    0.016016,    0.017017,    0.018018,    0.019019,     0.02002,    0.021021,    0.022022,    0.023023,\n",
       "          0.024024,    0.025025,    0.026026,    0.027027,    0.028028,    0.029029,     0.03003,    0.031031,    0.032032,    0.033033,    0.034034,    0.035035,    0.036036,    0.037037,    0.038038,    0.039039,     0.04004,    0.041041,    0.042042,    0.043043,    0.044044,    0.045045,    0.046046,    0.047047,\n",
       "          0.048048,    0.049049,     0.05005,    0.051051,    0.052052,    0.053053,    0.054054,    0.055055,    0.056056,    0.057057,    0.058058,    0.059059,     0.06006,    0.061061,    0.062062,    0.063063,    0.064064,    0.065065,    0.066066,    0.067067,    0.068068,    0.069069,     0.07007,    0.071071,\n",
       "          0.072072,    0.073073,    0.074074,    0.075075,    0.076076,    0.077077,    0.078078,    0.079079,     0.08008,    0.081081,    0.082082,    0.083083,    0.084084,    0.085085,    0.086086,    0.087087,    0.088088,    0.089089,     0.09009,    0.091091,    0.092092,    0.093093,    0.094094,    0.095095,\n",
       "          0.096096,    0.097097,    0.098098,    0.099099,      0.1001,      0.1011,      0.1021,      0.1031,      0.1041,     0.10511,     0.10611,     0.10711,     0.10811,     0.10911,     0.11011,     0.11111,     0.11211,     0.11311,     0.11411,     0.11512,     0.11612,     0.11712,     0.11812,     0.11912,\n",
       "           0.12012,     0.12112,     0.12212,     0.12312,     0.12412,     0.12513,     0.12613,     0.12713,     0.12813,     0.12913,     0.13013,     0.13113,     0.13213,     0.13313,     0.13413,     0.13514,     0.13614,     0.13714,     0.13814,     0.13914,     0.14014,     0.14114,     0.14214,     0.14314,\n",
       "           0.14414,     0.14515,     0.14615,     0.14715,     0.14815,     0.14915,     0.15015,     0.15115,     0.15215,     0.15315,     0.15415,     0.15516,     0.15616,     0.15716,     0.15816,     0.15916,     0.16016,     0.16116,     0.16216,     0.16316,     0.16416,     0.16517,     0.16617,     0.16717,\n",
       "           0.16817,     0.16917,     0.17017,     0.17117,     0.17217,     0.17317,     0.17417,     0.17518,     0.17618,     0.17718,     0.17818,     0.17918,     0.18018,     0.18118,     0.18218,     0.18318,     0.18418,     0.18519,     0.18619,     0.18719,     0.18819,     0.18919,     0.19019,     0.19119,\n",
       "           0.19219,     0.19319,     0.19419,      0.1952,      0.1962,      0.1972,      0.1982,      0.1992,      0.2002,      0.2012,      0.2022,      0.2032,      0.2042,     0.20521,     0.20621,     0.20721,     0.20821,     0.20921,     0.21021,     0.21121,     0.21221,     0.21321,     0.21421,     0.21522,\n",
       "           0.21622,     0.21722,     0.21822,     0.21922,     0.22022,     0.22122,     0.22222,     0.22322,     0.22422,     0.22523,     0.22623,     0.22723,     0.22823,     0.22923,     0.23023,     0.23123,     0.23223,     0.23323,     0.23423,     0.23524,     0.23624,     0.23724,     0.23824,     0.23924,\n",
       "           0.24024,     0.24124,     0.24224,     0.24324,     0.24424,     0.24525,     0.24625,     0.24725,     0.24825,     0.24925,     0.25025,     0.25125,     0.25225,     0.25325,     0.25425,     0.25526,     0.25626,     0.25726,     0.25826,     0.25926,     0.26026,     0.26126,     0.26226,     0.26326,\n",
       "           0.26426,     0.26527,     0.26627,     0.26727,     0.26827,     0.26927,     0.27027,     0.27127,     0.27227,     0.27327,     0.27427,     0.27528,     0.27628,     0.27728,     0.27828,     0.27928,     0.28028,     0.28128,     0.28228,     0.28328,     0.28428,     0.28529,     0.28629,     0.28729,\n",
       "           0.28829,     0.28929,     0.29029,     0.29129,     0.29229,     0.29329,     0.29429,      0.2953,      0.2963,      0.2973,      0.2983,      0.2993,      0.3003,      0.3013,      0.3023,      0.3033,      0.3043,     0.30531,     0.30631,     0.30731,     0.30831,     0.30931,     0.31031,     0.31131,\n",
       "           0.31231,     0.31331,     0.31431,     0.31532,     0.31632,     0.31732,     0.31832,     0.31932,     0.32032,     0.32132,     0.32232,     0.32332,     0.32432,     0.32533,     0.32633,     0.32733,     0.32833,     0.32933,     0.33033,     0.33133,     0.33233,     0.33333,     0.33433,     0.33534,\n",
       "           0.33634,     0.33734,     0.33834,     0.33934,     0.34034,     0.34134,     0.34234,     0.34334,     0.34434,     0.34535,     0.34635,     0.34735,     0.34835,     0.34935,     0.35035,     0.35135,     0.35235,     0.35335,     0.35435,     0.35536,     0.35636,     0.35736,     0.35836,     0.35936,\n",
       "           0.36036,     0.36136,     0.36236,     0.36336,     0.36436,     0.36537,     0.36637,     0.36737,     0.36837,     0.36937,     0.37037,     0.37137,     0.37237,     0.37337,     0.37437,     0.37538,     0.37638,     0.37738,     0.37838,     0.37938,     0.38038,     0.38138,     0.38238,     0.38338,\n",
       "           0.38438,     0.38539,     0.38639,     0.38739,     0.38839,     0.38939,     0.39039,     0.39139,     0.39239,     0.39339,     0.39439,      0.3954,      0.3964,      0.3974,      0.3984,      0.3994,      0.4004,      0.4014,      0.4024,      0.4034,      0.4044,     0.40541,     0.40641,     0.40741,\n",
       "           0.40841,     0.40941,     0.41041,     0.41141,     0.41241,     0.41341,     0.41441,     0.41542,     0.41642,     0.41742,     0.41842,     0.41942,     0.42042,     0.42142,     0.42242,     0.42342,     0.42442,     0.42543,     0.42643,     0.42743,     0.42843,     0.42943,     0.43043,     0.43143,\n",
       "           0.43243,     0.43343,     0.43443,     0.43544,     0.43644,     0.43744,     0.43844,     0.43944,     0.44044,     0.44144,     0.44244,     0.44344,     0.44444,     0.44545,     0.44645,     0.44745,     0.44845,     0.44945,     0.45045,     0.45145,     0.45245,     0.45345,     0.45445,     0.45546,\n",
       "           0.45646,     0.45746,     0.45846,     0.45946,     0.46046,     0.46146,     0.46246,     0.46346,     0.46446,     0.46547,     0.46647,     0.46747,     0.46847,     0.46947,     0.47047,     0.47147,     0.47247,     0.47347,     0.47447,     0.47548,     0.47648,     0.47748,     0.47848,     0.47948,\n",
       "           0.48048,     0.48148,     0.48248,     0.48348,     0.48448,     0.48549,     0.48649,     0.48749,     0.48849,     0.48949,     0.49049,     0.49149,     0.49249,     0.49349,     0.49449,      0.4955,      0.4965,      0.4975,      0.4985,      0.4995,      0.5005,      0.5015,      0.5025,      0.5035,\n",
       "            0.5045,     0.50551,     0.50651,     0.50751,     0.50851,     0.50951,     0.51051,     0.51151,     0.51251,     0.51351,     0.51451,     0.51552,     0.51652,     0.51752,     0.51852,     0.51952,     0.52052,     0.52152,     0.52252,     0.52352,     0.52452,     0.52553,     0.52653,     0.52753,\n",
       "           0.52853,     0.52953,     0.53053,     0.53153,     0.53253,     0.53353,     0.53453,     0.53554,     0.53654,     0.53754,     0.53854,     0.53954,     0.54054,     0.54154,     0.54254,     0.54354,     0.54454,     0.54555,     0.54655,     0.54755,     0.54855,     0.54955,     0.55055,     0.55155,\n",
       "           0.55255,     0.55355,     0.55455,     0.55556,     0.55656,     0.55756,     0.55856,     0.55956,     0.56056,     0.56156,     0.56256,     0.56356,     0.56456,     0.56557,     0.56657,     0.56757,     0.56857,     0.56957,     0.57057,     0.57157,     0.57257,     0.57357,     0.57457,     0.57558,\n",
       "           0.57658,     0.57758,     0.57858,     0.57958,     0.58058,     0.58158,     0.58258,     0.58358,     0.58458,     0.58559,     0.58659,     0.58759,     0.58859,     0.58959,     0.59059,     0.59159,     0.59259,     0.59359,     0.59459,      0.5956,      0.5966,      0.5976,      0.5986,      0.5996,\n",
       "            0.6006,      0.6016,      0.6026,      0.6036,      0.6046,     0.60561,     0.60661,     0.60761,     0.60861,     0.60961,     0.61061,     0.61161,     0.61261,     0.61361,     0.61461,     0.61562,     0.61662,     0.61762,     0.61862,     0.61962,     0.62062,     0.62162,     0.62262,     0.62362,\n",
       "           0.62462,     0.62563,     0.62663,     0.62763,     0.62863,     0.62963,     0.63063,     0.63163,     0.63263,     0.63363,     0.63463,     0.63564,     0.63664,     0.63764,     0.63864,     0.63964,     0.64064,     0.64164,     0.64264,     0.64364,     0.64464,     0.64565,     0.64665,     0.64765,\n",
       "           0.64865,     0.64965,     0.65065,     0.65165,     0.65265,     0.65365,     0.65465,     0.65566,     0.65666,     0.65766,     0.65866,     0.65966,     0.66066,     0.66166,     0.66266,     0.66366,     0.66466,     0.66567,     0.66667,     0.66767,     0.66867,     0.66967,     0.67067,     0.67167,\n",
       "           0.67267,     0.67367,     0.67467,     0.67568,     0.67668,     0.67768,     0.67868,     0.67968,     0.68068,     0.68168,     0.68268,     0.68368,     0.68468,     0.68569,     0.68669,     0.68769,     0.68869,     0.68969,     0.69069,     0.69169,     0.69269,     0.69369,     0.69469,      0.6957,\n",
       "            0.6967,      0.6977,      0.6987,      0.6997,      0.7007,      0.7017,      0.7027,      0.7037,      0.7047,     0.70571,     0.70671,     0.70771,     0.70871,     0.70971,     0.71071,     0.71171,     0.71271,     0.71371,     0.71471,     0.71572,     0.71672,     0.71772,     0.71872,     0.71972,\n",
       "           0.72072,     0.72172,     0.72272,     0.72372,     0.72472,     0.72573,     0.72673,     0.72773,     0.72873,     0.72973,     0.73073,     0.73173,     0.73273,     0.73373,     0.73473,     0.73574,     0.73674,     0.73774,     0.73874,     0.73974,     0.74074,     0.74174,     0.74274,     0.74374,\n",
       "           0.74474,     0.74575,     0.74675,     0.74775,     0.74875,     0.74975,     0.75075,     0.75175,     0.75275,     0.75375,     0.75475,     0.75576,     0.75676,     0.75776,     0.75876,     0.75976,     0.76076,     0.76176,     0.76276,     0.76376,     0.76476,     0.76577,     0.76677,     0.76777,\n",
       "           0.76877,     0.76977,     0.77077,     0.77177,     0.77277,     0.77377,     0.77477,     0.77578,     0.77678,     0.77778,     0.77878,     0.77978,     0.78078,     0.78178,     0.78278,     0.78378,     0.78478,     0.78579,     0.78679,     0.78779,     0.78879,     0.78979,     0.79079,     0.79179,\n",
       "           0.79279,     0.79379,     0.79479,      0.7958,      0.7968,      0.7978,      0.7988,      0.7998,      0.8008,      0.8018,      0.8028,      0.8038,      0.8048,     0.80581,     0.80681,     0.80781,     0.80881,     0.80981,     0.81081,     0.81181,     0.81281,     0.81381,     0.81481,     0.81582,\n",
       "           0.81682,     0.81782,     0.81882,     0.81982,     0.82082,     0.82182,     0.82282,     0.82382,     0.82482,     0.82583,     0.82683,     0.82783,     0.82883,     0.82983,     0.83083,     0.83183,     0.83283,     0.83383,     0.83483,     0.83584,     0.83684,     0.83784,     0.83884,     0.83984,\n",
       "           0.84084,     0.84184,     0.84284,     0.84384,     0.84484,     0.84585,     0.84685,     0.84785,     0.84885,     0.84985,     0.85085,     0.85185,     0.85285,     0.85385,     0.85485,     0.85586,     0.85686,     0.85786,     0.85886,     0.85986,     0.86086,     0.86186,     0.86286,     0.86386,\n",
       "           0.86486,     0.86587,     0.86687,     0.86787,     0.86887,     0.86987,     0.87087,     0.87187,     0.87287,     0.87387,     0.87487,     0.87588,     0.87688,     0.87788,     0.87888,     0.87988,     0.88088,     0.88188,     0.88288,     0.88388,     0.88488,     0.88589,     0.88689,     0.88789,\n",
       "           0.88889,     0.88989,     0.89089,     0.89189,     0.89289,     0.89389,     0.89489,      0.8959,      0.8969,      0.8979,      0.8989,      0.8999,      0.9009,      0.9019,      0.9029,      0.9039,      0.9049,     0.90591,     0.90691,     0.90791,     0.90891,     0.90991,     0.91091,     0.91191,\n",
       "           0.91291,     0.91391,     0.91491,     0.91592,     0.91692,     0.91792,     0.91892,     0.91992,     0.92092,     0.92192,     0.92292,     0.92392,     0.92492,     0.92593,     0.92693,     0.92793,     0.92893,     0.92993,     0.93093,     0.93193,     0.93293,     0.93393,     0.93493,     0.93594,\n",
       "           0.93694,     0.93794,     0.93894,     0.93994,     0.94094,     0.94194,     0.94294,     0.94394,     0.94494,     0.94595,     0.94695,     0.94795,     0.94895,     0.94995,     0.95095,     0.95195,     0.95295,     0.95395,     0.95495,     0.95596,     0.95696,     0.95796,     0.95896,     0.95996,\n",
       "           0.96096,     0.96196,     0.96296,     0.96396,     0.96496,     0.96597,     0.96697,     0.96797,     0.96897,     0.96997,     0.97097,     0.97197,     0.97297,     0.97397,     0.97497,     0.97598,     0.97698,     0.97798,     0.97898,     0.97998,     0.98098,     0.98198,     0.98298,     0.98398,\n",
       "           0.98498,     0.98599,     0.98699,     0.98799,     0.98899,     0.98999,     0.99099,     0.99199,     0.99299,     0.99399,     0.99499,       0.996,       0.997,       0.998,       0.999,           1]), array([[          1,           1,           1,           1,           1,           1,           1,           1,           1,           1,           1,           1,           1,           1,           1,           1,           1,           1,           1,           1,           1,           1,           1,\n",
       "                  1,           1,           1,           1,           1,           1,           1,           1,           1,           1,           1,           1,           1,           1,           1,           1,           1,           1,           1,           1,           1,           1,           1,\n",
       "                  1,           1,           1,           1,           1,           1,           1,           1,           1,           1,           1,           1,           1,           1,           1,           1,           1,           1,           1,           1,           1,           1,           1,\n",
       "                  1,           1,           1,           1,           1,           1,           1,           1,           1,           1,           1,           1,           1,           1,           1,           1,           1,           1,           1,           1,           1,           1,           1,\n",
       "                  1,           1,           1,           1,           1,           1,           1,           1,           1,           1,           1,           1,           1,           1,           1,           1,           1,           1,           1,           1,           1,           1,           1,\n",
       "                  1,           1,           1,           1,           1,           1,           1,           1,           1,           1,           1,           1,           1,           1,           1,           1,           1,           1,           1,           1,           1,           1,           1,\n",
       "                  1,           1,           1,           1,           1,           1,           1,           1,           1,           1,           1,           1,           1,           1,           1,           1,           1,           1,           1,           1,           1,           1,           1,\n",
       "                  1,           1,           1,           1,           1,           1,           1,           1,           1,           1,           1,           1,           1,           1,           1,           1,           1,           1,           1,           1,           1,           1,           1,\n",
       "                  1,           1,           1,           1,           1,           1,           1,           1,           1,           1,           1,           1,           1,           1,           1,           1,           1,           1,           1,           1,           1,           1,           1,\n",
       "                  1,           1,           1,           1,           1,           1,           1,           1,           1,           1,           1,           1,           1,           1,           1,           1,           1,           1,           1,           1,           1,           1,           1,\n",
       "                  1,           1,           1,           1,           1,           1,           1,           1,           1,           1,           1,           1,           1,           1,           1,           1,           1,           1,           1,           1,           1,           1,           1,\n",
       "                  1,           1,           1,           1,           1,           1,           1,           1,           1,           1,           1,           1,           1,           1,           1,           1,           1,           1,           1,           1,           1,           1,           1,\n",
       "                  1,           1,           1,           1,           1,           1,           1,           1,           1,           1,           1,           1,           1,           1,           1,           1,           1,           1,           1,           1,           1,           1,           1,\n",
       "                  1,           1,           1,           1,           1,           1,           1,           1,           1,           1,           1,           1,           1,           1,           1,           1,           1,           1,           1,           1,           1,           1,           1,\n",
       "                  1,           1,           1,           1,           1,           1,           1,           1,           1,           1,           1,           1,           1,           1,           1,           1,           1,           1,           1,           1,           1,           1,           1,\n",
       "                  1,           1,           1,           1,           1,           1,           1,           1,           1,           1,           1,           1,           1,           1,           1,           1,           1,           1,           1,           1,           1,           1,           1,\n",
       "                  1,     0.99906,     0.99906,     0.99906,     0.99906,     0.99906,     0.99906,     0.99906,     0.99906,     0.99906,     0.99906,     0.99906,     0.99906,     0.99906,     0.99906,     0.99906,     0.99906,     0.99906,     0.99906,     0.99906,     0.99906,     0.99906,     0.99906,\n",
       "            0.99906,     0.99906,     0.99906,     0.99906,     0.99906,     0.99906,     0.99906,     0.99906,     0.99906,     0.99906,     0.99906,     0.99906,     0.99906,     0.99906,     0.99906,     0.99906,     0.99906,     0.99906,     0.99906,     0.99906,     0.99906,     0.99906,     0.99906,\n",
       "            0.99906,     0.99906,     0.99906,     0.99906,     0.99906,     0.99906,     0.99906,     0.99906,     0.99906,     0.99906,     0.99906,     0.99906,     0.99906,     0.99906,     0.99906,     0.99906,     0.99906,     0.99906,     0.99906,     0.99906,     0.99906,     0.99906,     0.99906,\n",
       "            0.99906,     0.99906,     0.99906,     0.99906,     0.99906,     0.99906,     0.99906,     0.99906,     0.99906,     0.99906,     0.99906,     0.99906,     0.99906,     0.99906,     0.99906,     0.99906,     0.99906,     0.99906,     0.99906,     0.99906,     0.99906,     0.99906,     0.99906,\n",
       "            0.99906,     0.99906,     0.99906,     0.99906,     0.99906,     0.99906,     0.99906,     0.99906,     0.99906,     0.99906,     0.99906,     0.99906,     0.99906,     0.99906,     0.99906,     0.99906,     0.99906,     0.99906,     0.99906,     0.99906,     0.99906,     0.99906,     0.99906,\n",
       "            0.99906,     0.99906,     0.99906,     0.99906,     0.99906,     0.99906,     0.99906,     0.99906,     0.99906,     0.99906,     0.99906,     0.99906,     0.99906,     0.99906,     0.99906,     0.99906,     0.99906,     0.99906,     0.99906,     0.99906,     0.99906,     0.99906,     0.99906,\n",
       "            0.99906,     0.99906,     0.99906,     0.99906,     0.99906,     0.99906,     0.99906,     0.99906,     0.99906,     0.99906,     0.99906,     0.99906,     0.99906,     0.99906,     0.99906,     0.99906,     0.99906,     0.99906,     0.99906,     0.99906,     0.99906,     0.99906,     0.99906,\n",
       "            0.99906,     0.99906,     0.99906,     0.99906,     0.99906,     0.99906,     0.99906,     0.99906,     0.99906,     0.99906,     0.99906,     0.99906,     0.99906,     0.99906,     0.99906,     0.99906,     0.99906,     0.99906,     0.99906,     0.99906,     0.99906,     0.99906,     0.99906,\n",
       "            0.99906,     0.99906,     0.99906,     0.99906,     0.99906,     0.99906,     0.99906,     0.99906,     0.99906,     0.99906,     0.99906,     0.99906,     0.99906,     0.99906,     0.99906,     0.99906,     0.99906,     0.99906,     0.99906,     0.99906,     0.99906,     0.99906,     0.99906,\n",
       "            0.99906,     0.99906,     0.99906,     0.99906,     0.99906,     0.99906,     0.99906,     0.99906,     0.99906,     0.99906,     0.99906,     0.99906,     0.99906,     0.99906,     0.99906,     0.99906,     0.99906,     0.99906,     0.99906,     0.99906,     0.99906,     0.99906,     0.99906,\n",
       "            0.99906,     0.99906,     0.99906,     0.99906,     0.99906,     0.99906,     0.99906,     0.99906,     0.99906,     0.99906,     0.99906,     0.99906,     0.99906,     0.99906,     0.99906,     0.99906,     0.99906,     0.99906,     0.99906,     0.99906,     0.99906,     0.99906,     0.99906,\n",
       "            0.99906,     0.99906,     0.99906,     0.99906,     0.99906,     0.99906,     0.99906,     0.99906,     0.99906,     0.99906,     0.99906,     0.99906,     0.99906,     0.99906,     0.99906,     0.99906,     0.99906,     0.99906,     0.99906,     0.99906,     0.99906,     0.99906,     0.99906,\n",
       "            0.99906,     0.99906,     0.99906,     0.99906,     0.99906,     0.99906,     0.99906,     0.99906,     0.99906,     0.99906,     0.99906,     0.99906,     0.99906,     0.99906,     0.99906,     0.99906,     0.99906,     0.99906,     0.99906,     0.99906,     0.99906,     0.99906,     0.99906,\n",
       "            0.99906,     0.99906,     0.99906,     0.99906,     0.99906,     0.99906,     0.99906,     0.99906,     0.99906,     0.99906,     0.99906,     0.99906,     0.99906,     0.99906,     0.99906,     0.99906,     0.99906,     0.99906,     0.99906,     0.99906,     0.99906,     0.99906,     0.99906,\n",
       "            0.99906,     0.99906,     0.99906,     0.99906,     0.99906,     0.99906,     0.99906,     0.99906,     0.99906,     0.99906,     0.99906,     0.99906,     0.99906,     0.99906,     0.99906,     0.99906,     0.99906,     0.99906,     0.99906,     0.99906,     0.99906,     0.99906,     0.99906,\n",
       "            0.99906,     0.99906,     0.99906,     0.99906,     0.99906,     0.99906,     0.99906,     0.99906,     0.99906,     0.99906,     0.99906,     0.99906,     0.99906,     0.99906,     0.99906,     0.99906,     0.99906,     0.99906,     0.99906,     0.99906,     0.99906,     0.99906,     0.99906,\n",
       "            0.99906,     0.99906,     0.99906,     0.99906,     0.99906,     0.99906,     0.99906,     0.99906,     0.99906,     0.99906,     0.99906,     0.99906,     0.99906,     0.99906,     0.99906,     0.99906,     0.99906,     0.99906,     0.99906,     0.99906,     0.99906,     0.99906,     0.99906,\n",
       "            0.99906,     0.99906,     0.99906,     0.99906,     0.99906,     0.99906,     0.99906,     0.99906,     0.99906,     0.99906,     0.99906,     0.99906,     0.99906,     0.99906,     0.99906,     0.99906,     0.99906,     0.99906,     0.99906,     0.99906,     0.99906,     0.99906,     0.99906,\n",
       "            0.99906,     0.99906,     0.99906,     0.99906,     0.99906,     0.99906,     0.99906,     0.99906,     0.99906,     0.99906,     0.99906,     0.99906,     0.99906,     0.99906,     0.99906,     0.99906,     0.99906,     0.99906,     0.99906,     0.99906,     0.99906,     0.99906,     0.99906,\n",
       "            0.99906,     0.99906,     0.99906,     0.99906,     0.99906,     0.99906,     0.99906,     0.99906,     0.99906,     0.99906,     0.99906,     0.99906,     0.99906,     0.99906,     0.99906,     0.99906,     0.99824,     0.99824,     0.99824,     0.99824,     0.99824,     0.99824,     0.99824,\n",
       "            0.99824,     0.99824,     0.99824,     0.99824,     0.99824,     0.99824,     0.99824,     0.99824,     0.99824,     0.99824,     0.99824,     0.99824,     0.99824,     0.99824,     0.99824,     0.99824,     0.99824,     0.99824,     0.99824,     0.99824,     0.99824,     0.99824,     0.99824,\n",
       "            0.99824,     0.99824,     0.99824,     0.99824,     0.99824,     0.99824,     0.99824,     0.99824,     0.99824,     0.99824,     0.99824,     0.99824,     0.99824,     0.99824,     0.99824,     0.99824,     0.99824,     0.99824,     0.99824,     0.99824,     0.99824,     0.99824,     0.99824,\n",
       "            0.99824,     0.99824,     0.99824,     0.99824,     0.99736,     0.99659,     0.99659,     0.99659,     0.99659,     0.99659,     0.99659,     0.99659,     0.99659,     0.99659,     0.99659,     0.99659,     0.99659,     0.99659,     0.99659,     0.99659,     0.99659,     0.99659,     0.99659,\n",
       "            0.99659,     0.99659,     0.99659,     0.99659,     0.99659,     0.99659,     0.99659,     0.99659,     0.99659,     0.99578,     0.99578,     0.99578,     0.99578,     0.99578,     0.99578,     0.99578,     0.99578,     0.99497,     0.99497,     0.99497,     0.99497,     0.99497,     0.99497,\n",
       "            0.99427,     0.99427,     0.99427,     0.99427,     0.99427,     0.99427,     0.99427,     0.99427,     0.99427,     0.99427,     0.99427,     0.99427,     0.99427,     0.99427,     0.99427,     0.99427,     0.99427,     0.99427,     0.99427,     0.99427,     0.99427,     0.99348,     0.99348,\n",
       "            0.99348,     0.99348,      0.9919,      0.9919,      0.9919,      0.9919,      0.9919,     0.99111,     0.99042,     0.99042,     0.99042,     0.99042,     0.99042,     0.99042,     0.99042,     0.99042,     0.99042,     0.99042,     0.99042,     0.98964,     0.98886,     0.98734,     0.98734,\n",
       "            0.98734,     0.98734,     0.98503,     0.98352,     0.98352,     0.98352,     0.98279,     0.98279,     0.98062,     0.98062,     0.98062,     0.98062,     0.98062,     0.98062,     0.98062,     0.97912,     0.97614,     0.97391,     0.97097,     0.97097,     0.96659,     0.96588,     0.96445,\n",
       "            0.96087,     0.96018,     0.95377,     0.94675,     0.93988,     0.93038,     0.92842,     0.92319,       0.858,       0.801,           0]]), 'Recall', 'Precision'], [array([          0,    0.001001,    0.002002,    0.003003,    0.004004,    0.005005,    0.006006,    0.007007,    0.008008,    0.009009,     0.01001,    0.011011,    0.012012,    0.013013,    0.014014,    0.015015,    0.016016,    0.017017,    0.018018,    0.019019,     0.02002,    0.021021,    0.022022,    0.023023,\n",
       "          0.024024,    0.025025,    0.026026,    0.027027,    0.028028,    0.029029,     0.03003,    0.031031,    0.032032,    0.033033,    0.034034,    0.035035,    0.036036,    0.037037,    0.038038,    0.039039,     0.04004,    0.041041,    0.042042,    0.043043,    0.044044,    0.045045,    0.046046,    0.047047,\n",
       "          0.048048,    0.049049,     0.05005,    0.051051,    0.052052,    0.053053,    0.054054,    0.055055,    0.056056,    0.057057,    0.058058,    0.059059,     0.06006,    0.061061,    0.062062,    0.063063,    0.064064,    0.065065,    0.066066,    0.067067,    0.068068,    0.069069,     0.07007,    0.071071,\n",
       "          0.072072,    0.073073,    0.074074,    0.075075,    0.076076,    0.077077,    0.078078,    0.079079,     0.08008,    0.081081,    0.082082,    0.083083,    0.084084,    0.085085,    0.086086,    0.087087,    0.088088,    0.089089,     0.09009,    0.091091,    0.092092,    0.093093,    0.094094,    0.095095,\n",
       "          0.096096,    0.097097,    0.098098,    0.099099,      0.1001,      0.1011,      0.1021,      0.1031,      0.1041,     0.10511,     0.10611,     0.10711,     0.10811,     0.10911,     0.11011,     0.11111,     0.11211,     0.11311,     0.11411,     0.11512,     0.11612,     0.11712,     0.11812,     0.11912,\n",
       "           0.12012,     0.12112,     0.12212,     0.12312,     0.12412,     0.12513,     0.12613,     0.12713,     0.12813,     0.12913,     0.13013,     0.13113,     0.13213,     0.13313,     0.13413,     0.13514,     0.13614,     0.13714,     0.13814,     0.13914,     0.14014,     0.14114,     0.14214,     0.14314,\n",
       "           0.14414,     0.14515,     0.14615,     0.14715,     0.14815,     0.14915,     0.15015,     0.15115,     0.15215,     0.15315,     0.15415,     0.15516,     0.15616,     0.15716,     0.15816,     0.15916,     0.16016,     0.16116,     0.16216,     0.16316,     0.16416,     0.16517,     0.16617,     0.16717,\n",
       "           0.16817,     0.16917,     0.17017,     0.17117,     0.17217,     0.17317,     0.17417,     0.17518,     0.17618,     0.17718,     0.17818,     0.17918,     0.18018,     0.18118,     0.18218,     0.18318,     0.18418,     0.18519,     0.18619,     0.18719,     0.18819,     0.18919,     0.19019,     0.19119,\n",
       "           0.19219,     0.19319,     0.19419,      0.1952,      0.1962,      0.1972,      0.1982,      0.1992,      0.2002,      0.2012,      0.2022,      0.2032,      0.2042,     0.20521,     0.20621,     0.20721,     0.20821,     0.20921,     0.21021,     0.21121,     0.21221,     0.21321,     0.21421,     0.21522,\n",
       "           0.21622,     0.21722,     0.21822,     0.21922,     0.22022,     0.22122,     0.22222,     0.22322,     0.22422,     0.22523,     0.22623,     0.22723,     0.22823,     0.22923,     0.23023,     0.23123,     0.23223,     0.23323,     0.23423,     0.23524,     0.23624,     0.23724,     0.23824,     0.23924,\n",
       "           0.24024,     0.24124,     0.24224,     0.24324,     0.24424,     0.24525,     0.24625,     0.24725,     0.24825,     0.24925,     0.25025,     0.25125,     0.25225,     0.25325,     0.25425,     0.25526,     0.25626,     0.25726,     0.25826,     0.25926,     0.26026,     0.26126,     0.26226,     0.26326,\n",
       "           0.26426,     0.26527,     0.26627,     0.26727,     0.26827,     0.26927,     0.27027,     0.27127,     0.27227,     0.27327,     0.27427,     0.27528,     0.27628,     0.27728,     0.27828,     0.27928,     0.28028,     0.28128,     0.28228,     0.28328,     0.28428,     0.28529,     0.28629,     0.28729,\n",
       "           0.28829,     0.28929,     0.29029,     0.29129,     0.29229,     0.29329,     0.29429,      0.2953,      0.2963,      0.2973,      0.2983,      0.2993,      0.3003,      0.3013,      0.3023,      0.3033,      0.3043,     0.30531,     0.30631,     0.30731,     0.30831,     0.30931,     0.31031,     0.31131,\n",
       "           0.31231,     0.31331,     0.31431,     0.31532,     0.31632,     0.31732,     0.31832,     0.31932,     0.32032,     0.32132,     0.32232,     0.32332,     0.32432,     0.32533,     0.32633,     0.32733,     0.32833,     0.32933,     0.33033,     0.33133,     0.33233,     0.33333,     0.33433,     0.33534,\n",
       "           0.33634,     0.33734,     0.33834,     0.33934,     0.34034,     0.34134,     0.34234,     0.34334,     0.34434,     0.34535,     0.34635,     0.34735,     0.34835,     0.34935,     0.35035,     0.35135,     0.35235,     0.35335,     0.35435,     0.35536,     0.35636,     0.35736,     0.35836,     0.35936,\n",
       "           0.36036,     0.36136,     0.36236,     0.36336,     0.36436,     0.36537,     0.36637,     0.36737,     0.36837,     0.36937,     0.37037,     0.37137,     0.37237,     0.37337,     0.37437,     0.37538,     0.37638,     0.37738,     0.37838,     0.37938,     0.38038,     0.38138,     0.38238,     0.38338,\n",
       "           0.38438,     0.38539,     0.38639,     0.38739,     0.38839,     0.38939,     0.39039,     0.39139,     0.39239,     0.39339,     0.39439,      0.3954,      0.3964,      0.3974,      0.3984,      0.3994,      0.4004,      0.4014,      0.4024,      0.4034,      0.4044,     0.40541,     0.40641,     0.40741,\n",
       "           0.40841,     0.40941,     0.41041,     0.41141,     0.41241,     0.41341,     0.41441,     0.41542,     0.41642,     0.41742,     0.41842,     0.41942,     0.42042,     0.42142,     0.42242,     0.42342,     0.42442,     0.42543,     0.42643,     0.42743,     0.42843,     0.42943,     0.43043,     0.43143,\n",
       "           0.43243,     0.43343,     0.43443,     0.43544,     0.43644,     0.43744,     0.43844,     0.43944,     0.44044,     0.44144,     0.44244,     0.44344,     0.44444,     0.44545,     0.44645,     0.44745,     0.44845,     0.44945,     0.45045,     0.45145,     0.45245,     0.45345,     0.45445,     0.45546,\n",
       "           0.45646,     0.45746,     0.45846,     0.45946,     0.46046,     0.46146,     0.46246,     0.46346,     0.46446,     0.46547,     0.46647,     0.46747,     0.46847,     0.46947,     0.47047,     0.47147,     0.47247,     0.47347,     0.47447,     0.47548,     0.47648,     0.47748,     0.47848,     0.47948,\n",
       "           0.48048,     0.48148,     0.48248,     0.48348,     0.48448,     0.48549,     0.48649,     0.48749,     0.48849,     0.48949,     0.49049,     0.49149,     0.49249,     0.49349,     0.49449,      0.4955,      0.4965,      0.4975,      0.4985,      0.4995,      0.5005,      0.5015,      0.5025,      0.5035,\n",
       "            0.5045,     0.50551,     0.50651,     0.50751,     0.50851,     0.50951,     0.51051,     0.51151,     0.51251,     0.51351,     0.51451,     0.51552,     0.51652,     0.51752,     0.51852,     0.51952,     0.52052,     0.52152,     0.52252,     0.52352,     0.52452,     0.52553,     0.52653,     0.52753,\n",
       "           0.52853,     0.52953,     0.53053,     0.53153,     0.53253,     0.53353,     0.53453,     0.53554,     0.53654,     0.53754,     0.53854,     0.53954,     0.54054,     0.54154,     0.54254,     0.54354,     0.54454,     0.54555,     0.54655,     0.54755,     0.54855,     0.54955,     0.55055,     0.55155,\n",
       "           0.55255,     0.55355,     0.55455,     0.55556,     0.55656,     0.55756,     0.55856,     0.55956,     0.56056,     0.56156,     0.56256,     0.56356,     0.56456,     0.56557,     0.56657,     0.56757,     0.56857,     0.56957,     0.57057,     0.57157,     0.57257,     0.57357,     0.57457,     0.57558,\n",
       "           0.57658,     0.57758,     0.57858,     0.57958,     0.58058,     0.58158,     0.58258,     0.58358,     0.58458,     0.58559,     0.58659,     0.58759,     0.58859,     0.58959,     0.59059,     0.59159,     0.59259,     0.59359,     0.59459,      0.5956,      0.5966,      0.5976,      0.5986,      0.5996,\n",
       "            0.6006,      0.6016,      0.6026,      0.6036,      0.6046,     0.60561,     0.60661,     0.60761,     0.60861,     0.60961,     0.61061,     0.61161,     0.61261,     0.61361,     0.61461,     0.61562,     0.61662,     0.61762,     0.61862,     0.61962,     0.62062,     0.62162,     0.62262,     0.62362,\n",
       "           0.62462,     0.62563,     0.62663,     0.62763,     0.62863,     0.62963,     0.63063,     0.63163,     0.63263,     0.63363,     0.63463,     0.63564,     0.63664,     0.63764,     0.63864,     0.63964,     0.64064,     0.64164,     0.64264,     0.64364,     0.64464,     0.64565,     0.64665,     0.64765,\n",
       "           0.64865,     0.64965,     0.65065,     0.65165,     0.65265,     0.65365,     0.65465,     0.65566,     0.65666,     0.65766,     0.65866,     0.65966,     0.66066,     0.66166,     0.66266,     0.66366,     0.66466,     0.66567,     0.66667,     0.66767,     0.66867,     0.66967,     0.67067,     0.67167,\n",
       "           0.67267,     0.67367,     0.67467,     0.67568,     0.67668,     0.67768,     0.67868,     0.67968,     0.68068,     0.68168,     0.68268,     0.68368,     0.68468,     0.68569,     0.68669,     0.68769,     0.68869,     0.68969,     0.69069,     0.69169,     0.69269,     0.69369,     0.69469,      0.6957,\n",
       "            0.6967,      0.6977,      0.6987,      0.6997,      0.7007,      0.7017,      0.7027,      0.7037,      0.7047,     0.70571,     0.70671,     0.70771,     0.70871,     0.70971,     0.71071,     0.71171,     0.71271,     0.71371,     0.71471,     0.71572,     0.71672,     0.71772,     0.71872,     0.71972,\n",
       "           0.72072,     0.72172,     0.72272,     0.72372,     0.72472,     0.72573,     0.72673,     0.72773,     0.72873,     0.72973,     0.73073,     0.73173,     0.73273,     0.73373,     0.73473,     0.73574,     0.73674,     0.73774,     0.73874,     0.73974,     0.74074,     0.74174,     0.74274,     0.74374,\n",
       "           0.74474,     0.74575,     0.74675,     0.74775,     0.74875,     0.74975,     0.75075,     0.75175,     0.75275,     0.75375,     0.75475,     0.75576,     0.75676,     0.75776,     0.75876,     0.75976,     0.76076,     0.76176,     0.76276,     0.76376,     0.76476,     0.76577,     0.76677,     0.76777,\n",
       "           0.76877,     0.76977,     0.77077,     0.77177,     0.77277,     0.77377,     0.77477,     0.77578,     0.77678,     0.77778,     0.77878,     0.77978,     0.78078,     0.78178,     0.78278,     0.78378,     0.78478,     0.78579,     0.78679,     0.78779,     0.78879,     0.78979,     0.79079,     0.79179,\n",
       "           0.79279,     0.79379,     0.79479,      0.7958,      0.7968,      0.7978,      0.7988,      0.7998,      0.8008,      0.8018,      0.8028,      0.8038,      0.8048,     0.80581,     0.80681,     0.80781,     0.80881,     0.80981,     0.81081,     0.81181,     0.81281,     0.81381,     0.81481,     0.81582,\n",
       "           0.81682,     0.81782,     0.81882,     0.81982,     0.82082,     0.82182,     0.82282,     0.82382,     0.82482,     0.82583,     0.82683,     0.82783,     0.82883,     0.82983,     0.83083,     0.83183,     0.83283,     0.83383,     0.83483,     0.83584,     0.83684,     0.83784,     0.83884,     0.83984,\n",
       "           0.84084,     0.84184,     0.84284,     0.84384,     0.84484,     0.84585,     0.84685,     0.84785,     0.84885,     0.84985,     0.85085,     0.85185,     0.85285,     0.85385,     0.85485,     0.85586,     0.85686,     0.85786,     0.85886,     0.85986,     0.86086,     0.86186,     0.86286,     0.86386,\n",
       "           0.86486,     0.86587,     0.86687,     0.86787,     0.86887,     0.86987,     0.87087,     0.87187,     0.87287,     0.87387,     0.87487,     0.87588,     0.87688,     0.87788,     0.87888,     0.87988,     0.88088,     0.88188,     0.88288,     0.88388,     0.88488,     0.88589,     0.88689,     0.88789,\n",
       "           0.88889,     0.88989,     0.89089,     0.89189,     0.89289,     0.89389,     0.89489,      0.8959,      0.8969,      0.8979,      0.8989,      0.8999,      0.9009,      0.9019,      0.9029,      0.9039,      0.9049,     0.90591,     0.90691,     0.90791,     0.90891,     0.90991,     0.91091,     0.91191,\n",
       "           0.91291,     0.91391,     0.91491,     0.91592,     0.91692,     0.91792,     0.91892,     0.91992,     0.92092,     0.92192,     0.92292,     0.92392,     0.92492,     0.92593,     0.92693,     0.92793,     0.92893,     0.92993,     0.93093,     0.93193,     0.93293,     0.93393,     0.93493,     0.93594,\n",
       "           0.93694,     0.93794,     0.93894,     0.93994,     0.94094,     0.94194,     0.94294,     0.94394,     0.94494,     0.94595,     0.94695,     0.94795,     0.94895,     0.94995,     0.95095,     0.95195,     0.95295,     0.95395,     0.95495,     0.95596,     0.95696,     0.95796,     0.95896,     0.95996,\n",
       "           0.96096,     0.96196,     0.96296,     0.96396,     0.96496,     0.96597,     0.96697,     0.96797,     0.96897,     0.96997,     0.97097,     0.97197,     0.97297,     0.97397,     0.97497,     0.97598,     0.97698,     0.97798,     0.97898,     0.97998,     0.98098,     0.98198,     0.98298,     0.98398,\n",
       "           0.98498,     0.98599,     0.98699,     0.98799,     0.98899,     0.98999,     0.99099,     0.99199,     0.99299,     0.99399,     0.99499,       0.996,       0.997,       0.998,       0.999,           1]), array([[    0.79678,     0.79678,     0.85437,     0.88138,     0.89703,      0.9064,     0.91472,     0.92257,      0.9277,     0.92965,      0.9334,     0.93633,     0.93878,      0.9409,     0.94405,      0.9461,     0.94749,     0.94869,     0.94978,     0.95008,     0.95165,     0.95298,     0.95372,\n",
       "            0.95442,     0.95454,     0.95466,     0.95498,     0.95536,     0.95559,     0.95589,     0.95717,      0.9577,     0.95794,     0.95864,     0.95875,     0.95886,     0.95897,     0.95922,     0.95929,     0.95961,     0.95977,     0.95992,     0.96008,     0.96027,     0.96055,       0.961,\n",
       "            0.96097,     0.96083,      0.9607,     0.96127,     0.96143,     0.96147,     0.96151,     0.96155,     0.96159,     0.96162,     0.96166,      0.9617,     0.96174,     0.96174,     0.96165,     0.96156,     0.96147,     0.96138,     0.96158,     0.96215,     0.96239,      0.9626,     0.96278,\n",
       "            0.96291,     0.96302,     0.96313,     0.96359,     0.96375,     0.96391,     0.96402,     0.96413,     0.96424,     0.96433,     0.96441,     0.96449,     0.96458,     0.96467,     0.96481,     0.96495,     0.96539,     0.96558,     0.96579,       0.966,     0.96613,     0.96619,     0.96625,\n",
       "            0.96631,     0.96637,     0.96644,     0.96609,     0.96618,     0.96631,     0.96643,     0.96658,     0.96673,     0.96708,     0.96777,     0.96756,     0.96773,     0.96794,     0.96805,     0.96817,     0.96899,     0.96921,      0.9693,     0.96924,     0.96918,     0.96912,     0.96905,\n",
       "            0.96899,     0.96924,     0.96942,     0.96954,     0.96966,     0.97006,     0.97009,     0.97012,     0.97015,     0.97018,     0.97022,     0.97025,     0.97028,     0.97031,     0.97034,     0.97037,     0.97041,     0.97083,     0.97088,     0.97094,       0.971,     0.97105,     0.97111,\n",
       "            0.97117,     0.97125,     0.97132,      0.9714,     0.97147,     0.97168,     0.97206,     0.97233,     0.97248,     0.97258,     0.97227,     0.97235,     0.97242,      0.9725,     0.97257,     0.97269,     0.97284,     0.97298,       0.973,     0.97303,     0.97305,     0.97308,      0.9731,\n",
       "            0.97313,     0.97316,     0.97318,     0.97321,     0.97323,     0.97326,     0.97329,     0.97331,     0.97334,     0.97338,     0.97344,     0.97349,     0.97355,     0.97361,     0.97366,     0.97372,      0.9738,     0.97388,     0.97396,     0.97405,      0.9744,     0.97454,     0.97463,\n",
       "            0.97473,     0.97482,      0.9751,     0.97534,     0.97554,     0.97552,     0.97545,     0.97539,     0.97532,     0.97526,     0.97519,      0.9752,     0.97522,     0.97524,     0.97526,     0.97528,      0.9753,     0.97533,     0.97535,     0.97537,     0.97539,     0.97541,     0.97543,\n",
       "            0.97545,     0.97547,     0.97549,     0.97552,     0.97554,     0.97517,     0.97525,     0.97532,     0.97539,     0.97546,     0.97553,     0.97579,     0.97596,     0.97606,     0.97615,     0.97624,     0.97632,     0.97639,     0.97646,     0.97652,     0.97659,     0.97665,     0.97661,\n",
       "            0.97657,     0.97653,     0.97649,     0.97645,     0.97641,     0.97637,     0.97633,     0.97629,     0.97643,     0.97632,     0.97632,     0.97641,      0.9765,     0.97658,     0.97664,     0.97666,     0.97669,     0.97672,     0.97675,     0.97678,     0.97681,     0.97684,     0.97686,\n",
       "            0.97689,     0.97692,     0.97695,     0.97698,     0.97698,     0.97696,     0.97693,     0.97691,     0.97688,     0.97685,     0.97683,      0.9768,     0.97678,     0.97675,     0.97672,      0.9767,     0.97667,     0.97665,     0.97662,     0.97675,     0.97688,     0.97672,     0.97659,\n",
       "            0.97666,     0.97673,      0.9768,     0.97687,     0.97694,     0.97713,     0.97734,      0.9774,     0.97746,     0.97751,     0.97757,     0.97763,     0.97769,     0.97812,     0.97817,     0.97822,     0.97828,     0.97833,     0.97838,     0.97843,     0.97846,     0.97844,     0.97843,\n",
       "            0.97841,      0.9784,     0.97838,     0.97837,     0.97835,     0.97834,     0.97832,     0.97831,     0.97829,     0.97828,     0.97826,     0.97825,     0.97823,     0.97822,      0.9782,     0.97819,     0.97817,     0.97816,     0.97815,     0.97813,     0.97812,      0.9781,     0.97809,\n",
       "            0.97807,      0.9781,     0.97815,     0.97819,     0.97824,     0.97828,     0.97832,     0.97837,     0.97841,     0.97843,     0.97836,      0.9783,     0.97823,     0.97817,      0.9781,     0.97804,     0.97795,     0.97786,     0.97777,     0.97768,     0.97796,      0.9781,     0.97819,\n",
       "            0.97828,     0.97836,     0.97842,     0.97845,     0.97848,     0.97851,     0.97854,     0.97856,     0.97859,     0.97862,     0.97865,     0.97868,      0.9787,     0.97873,     0.97876,     0.97879,     0.97882,     0.97884,     0.97887,     0.97889,     0.97892,     0.97895,     0.97897,\n",
       "              0.979,     0.97903,     0.97905,     0.97908,      0.9791,     0.97913,     0.97916,     0.97911,     0.97903,     0.97894,     0.97886,     0.97877,     0.97887,     0.97898,     0.97908,     0.97917,     0.97924,     0.97931,     0.97937,     0.97944,     0.97951,     0.97957,     0.97962,\n",
       "            0.97967,     0.97972,     0.97977,     0.97982,     0.97988,     0.97989,     0.97985,     0.97981,     0.97977,     0.97972,     0.97968,     0.97964,      0.9796,     0.97956,     0.97952,     0.97988,     0.97986,     0.97984,     0.97982,      0.9798,     0.97978,     0.97977,     0.97975,\n",
       "            0.97973,     0.97971,     0.97969,     0.97968,     0.97966,     0.97964,     0.97962,      0.9796,     0.97958,     0.97957,     0.97955,     0.97953,     0.97951,      0.9795,     0.97954,     0.97958,     0.97961,     0.97965,     0.97968,     0.97972,     0.97976,     0.97979,     0.97983,\n",
       "            0.97987,     0.97997,      0.9801,     0.98023,      0.9804,      0.9806,     0.98047,     0.98027,     0.98027,     0.98031,     0.98035,     0.98039,     0.98043,     0.98047,     0.98051,     0.98055,     0.98059,     0.98063,     0.98074,     0.98084,     0.98094,     0.98091,     0.98071,\n",
       "            0.98059,     0.98057,     0.98054,     0.98052,     0.98049,     0.98047,     0.98044,     0.98042,     0.98039,     0.98036,     0.98034,     0.98031,     0.98029,     0.98026,     0.98024,     0.98021,     0.98009,     0.97995,     0.97982,     0.97962,     0.97942,     0.97935,     0.97928,\n",
       "            0.97921,     0.97915,     0.97908,     0.97899,     0.97879,     0.97862,      0.9786,     0.97858,     0.97856,     0.97853,     0.97851,     0.97849,     0.97847,     0.97845,     0.97843,     0.97841,     0.97838,     0.97836,     0.97834,     0.97832,      0.9783,     0.97828,     0.97826,\n",
       "            0.97823,     0.97819,     0.97813,     0.97807,     0.97801,     0.97796,      0.9779,     0.97784,     0.97766,     0.97745,     0.97746,     0.97749,     0.97753,     0.97756,     0.97759,     0.97762,     0.97766,     0.97769,     0.97772,     0.97775,     0.97779,     0.97788,     0.97823,\n",
       "            0.97843,     0.97857,     0.97853,      0.9785,     0.97846,     0.97843,      0.9784,     0.97836,     0.97833,     0.97829,     0.97826,     0.97823,     0.97819,     0.97816,     0.97812,     0.97809,     0.97806,     0.97802,     0.97799,     0.97795,     0.97792,     0.97789,     0.97785,\n",
       "            0.97782,     0.97778,     0.97775,     0.97772,     0.97769,     0.97766,     0.97763,      0.9776,     0.97757,     0.97754,     0.97751,     0.97748,     0.97745,     0.97742,     0.97739,     0.97749,     0.97722,     0.97701,     0.97658,      0.9766,     0.97663,     0.97665,     0.97668,\n",
       "             0.9767,     0.97672,     0.97675,     0.97677,     0.97679,     0.97682,     0.97684,     0.97686,     0.97689,     0.97691,     0.97694,     0.97701,     0.97711,      0.9772,      0.9773,     0.97726,     0.97718,      0.9771,     0.97702,     0.97694,     0.97669,     0.97658,     0.97671,\n",
       "            0.97684,      0.9771,     0.97732,     0.97737,     0.97743,     0.97749,     0.97754,      0.9776,     0.97766,     0.97722,     0.97715,     0.97707,       0.977,     0.97692,     0.97684,     0.97675,     0.97666,     0.97657,     0.97648,     0.97634,     0.97621,     0.97607,     0.97603,\n",
       "              0.976,     0.97596,     0.97593,     0.97589,     0.97585,     0.97582,     0.97578,     0.97575,     0.97571,     0.97568,     0.97597,     0.97607,      0.9761,     0.97612,     0.97615,     0.97617,      0.9762,     0.97622,     0.97625,     0.97627,      0.9763,     0.97632,     0.97635,\n",
       "            0.97637,      0.9764,     0.97643,     0.97616,     0.97614,      0.9763,     0.97641,     0.97638,     0.97635,     0.97633,      0.9763,     0.97628,     0.97625,     0.97622,      0.9762,     0.97617,     0.97614,     0.97612,     0.97609,     0.97606,     0.97604,     0.97599,     0.97582,\n",
       "            0.97566,     0.97569,      0.9758,     0.97591,     0.97598,     0.97593,     0.97589,     0.97584,      0.9758,     0.97575,     0.97571,     0.97566,     0.97561,     0.97553,     0.97541,     0.97529,     0.97516,     0.97489,     0.97473,     0.97465,     0.97457,     0.97448,      0.9744,\n",
       "            0.97429,     0.97417,     0.97405,     0.97395,     0.97388,     0.97381,     0.97374,     0.97368,     0.97361,     0.97344,     0.97316,     0.97308,       0.973,     0.97291,     0.97283,     0.97234,     0.97225,     0.97216,     0.97206,     0.97197,     0.97189,     0.97182,     0.97174,\n",
       "            0.97166,     0.97159,      0.9715,     0.97138,     0.97126,     0.97114,     0.97081,      0.9709,     0.97099,     0.97108,     0.97105,     0.97095,     0.97084,     0.97074,     0.97059,     0.97042,     0.97036,     0.97062,     0.97066,     0.97063,      0.9706,     0.97057,     0.97054,\n",
       "            0.97051,     0.97048,     0.97045,     0.97042,     0.97039,     0.97036,     0.97033,      0.9703,     0.97027,      0.9702,     0.97013,     0.97006,     0.96999,     0.96992,     0.96903,     0.96896,     0.96889,     0.96882,     0.96875,     0.96868,     0.96826,     0.96832,     0.96839,\n",
       "            0.96845,     0.96852,     0.96858,     0.96884,     0.96814,     0.96775,     0.96761,     0.96747,     0.96734,     0.96727,      0.9672,     0.96713,     0.96706,     0.96699,     0.96719,     0.96647,     0.96638,     0.96629,     0.96619,      0.9661,     0.96599,     0.96589,     0.96578,\n",
       "            0.96525,     0.96497,     0.96479,     0.96469,     0.96458,     0.96447,     0.96437,     0.96426,     0.96416,     0.96405,     0.96394,     0.96384,     0.96373,     0.96363,     0.96282,     0.96252,     0.96229,     0.96212,     0.96195,     0.96187,     0.96178,      0.9617,     0.96161,\n",
       "            0.96153,     0.96145,     0.96137,     0.96129,     0.96122,     0.96114,     0.96062,     0.96034,     0.96019,     0.96007,     0.95994,      0.9597,     0.95933,     0.95904,     0.95862,     0.95845,     0.95828,     0.95754,     0.95731,     0.95721,     0.95711,     0.95702,     0.95692,\n",
       "             0.9568,     0.95667,     0.95655,     0.95573,     0.95509,     0.95491,     0.95465,     0.95421,     0.95378,     0.95348,     0.95336,     0.95323,     0.95349,     0.95307,     0.95296,     0.95285,     0.95274,     0.95263,     0.95245,     0.95228,     0.95192,     0.95127,     0.95113,\n",
       "            0.95098,     0.95035,     0.95013,     0.94973,     0.94912,     0.94898,     0.94883,      0.9492,     0.94878,     0.94791,     0.94702,     0.94693,     0.94685,     0.94676,     0.94667,     0.94564,     0.94542,     0.94439,     0.94395,     0.94351,     0.94307,     0.94249,     0.94196,\n",
       "            0.94152,     0.94108,     0.94007,     0.93985,     0.93888,     0.93799,     0.93754,     0.93707,     0.93555,     0.93472,     0.93469,     0.93425,     0.93364,     0.93329,     0.93208,     0.93151,     0.93051,     0.92939,     0.92879,     0.92825,     0.92793,     0.92756,     0.92711,\n",
       "            0.92681,      0.9267,      0.9266,      0.9265,     0.92638,     0.92589,     0.92323,     0.92226,      0.9205,     0.91996,     0.91935,     0.91798,     0.91733,     0.91702,     0.91625,     0.91589,     0.91526,     0.91486,     0.91385,     0.91275,     0.91251,     0.91149,     0.90978,\n",
       "            0.90915,     0.90799,     0.90684,      0.9066,     0.90628,     0.90447,     0.90402,      0.9037,     0.90251,     0.90227,     0.90138,     0.90044,     0.89893,     0.89727,     0.89614,     0.89512,      0.8923,     0.89133,     0.88939,     0.88793,     0.88599,     0.88307,     0.88245,\n",
       "            0.88108,     0.87912,     0.87714,     0.87516,     0.87366,     0.86969,     0.86817,     0.86566,     0.86314,      0.8611,     0.85552,     0.85142,     0.84646,     0.84209,     0.83579,     0.83261,      0.8246,     0.81377,     0.79827,     0.77948,     0.73269,     0.69085,     0.60894,\n",
       "             0.5078,     0.39836,     0.28881,     0.17874,     0.10782,    0.076696,    0.034089,    0.014328,   0.0029053,   0.0023766,   0.0018476,           0,           0,           0,           0,           0,           0,           0,           0,           0,           0,           0,           0,\n",
       "                  0,           0,           0,           0,           0,           0,           0,           0,           0,           0,           0]]), 'Confidence', 'F1'], [array([          0,    0.001001,    0.002002,    0.003003,    0.004004,    0.005005,    0.006006,    0.007007,    0.008008,    0.009009,     0.01001,    0.011011,    0.012012,    0.013013,    0.014014,    0.015015,    0.016016,    0.017017,    0.018018,    0.019019,     0.02002,    0.021021,    0.022022,    0.023023,\n",
       "          0.024024,    0.025025,    0.026026,    0.027027,    0.028028,    0.029029,     0.03003,    0.031031,    0.032032,    0.033033,    0.034034,    0.035035,    0.036036,    0.037037,    0.038038,    0.039039,     0.04004,    0.041041,    0.042042,    0.043043,    0.044044,    0.045045,    0.046046,    0.047047,\n",
       "          0.048048,    0.049049,     0.05005,    0.051051,    0.052052,    0.053053,    0.054054,    0.055055,    0.056056,    0.057057,    0.058058,    0.059059,     0.06006,    0.061061,    0.062062,    0.063063,    0.064064,    0.065065,    0.066066,    0.067067,    0.068068,    0.069069,     0.07007,    0.071071,\n",
       "          0.072072,    0.073073,    0.074074,    0.075075,    0.076076,    0.077077,    0.078078,    0.079079,     0.08008,    0.081081,    0.082082,    0.083083,    0.084084,    0.085085,    0.086086,    0.087087,    0.088088,    0.089089,     0.09009,    0.091091,    0.092092,    0.093093,    0.094094,    0.095095,\n",
       "          0.096096,    0.097097,    0.098098,    0.099099,      0.1001,      0.1011,      0.1021,      0.1031,      0.1041,     0.10511,     0.10611,     0.10711,     0.10811,     0.10911,     0.11011,     0.11111,     0.11211,     0.11311,     0.11411,     0.11512,     0.11612,     0.11712,     0.11812,     0.11912,\n",
       "           0.12012,     0.12112,     0.12212,     0.12312,     0.12412,     0.12513,     0.12613,     0.12713,     0.12813,     0.12913,     0.13013,     0.13113,     0.13213,     0.13313,     0.13413,     0.13514,     0.13614,     0.13714,     0.13814,     0.13914,     0.14014,     0.14114,     0.14214,     0.14314,\n",
       "           0.14414,     0.14515,     0.14615,     0.14715,     0.14815,     0.14915,     0.15015,     0.15115,     0.15215,     0.15315,     0.15415,     0.15516,     0.15616,     0.15716,     0.15816,     0.15916,     0.16016,     0.16116,     0.16216,     0.16316,     0.16416,     0.16517,     0.16617,     0.16717,\n",
       "           0.16817,     0.16917,     0.17017,     0.17117,     0.17217,     0.17317,     0.17417,     0.17518,     0.17618,     0.17718,     0.17818,     0.17918,     0.18018,     0.18118,     0.18218,     0.18318,     0.18418,     0.18519,     0.18619,     0.18719,     0.18819,     0.18919,     0.19019,     0.19119,\n",
       "           0.19219,     0.19319,     0.19419,      0.1952,      0.1962,      0.1972,      0.1982,      0.1992,      0.2002,      0.2012,      0.2022,      0.2032,      0.2042,     0.20521,     0.20621,     0.20721,     0.20821,     0.20921,     0.21021,     0.21121,     0.21221,     0.21321,     0.21421,     0.21522,\n",
       "           0.21622,     0.21722,     0.21822,     0.21922,     0.22022,     0.22122,     0.22222,     0.22322,     0.22422,     0.22523,     0.22623,     0.22723,     0.22823,     0.22923,     0.23023,     0.23123,     0.23223,     0.23323,     0.23423,     0.23524,     0.23624,     0.23724,     0.23824,     0.23924,\n",
       "           0.24024,     0.24124,     0.24224,     0.24324,     0.24424,     0.24525,     0.24625,     0.24725,     0.24825,     0.24925,     0.25025,     0.25125,     0.25225,     0.25325,     0.25425,     0.25526,     0.25626,     0.25726,     0.25826,     0.25926,     0.26026,     0.26126,     0.26226,     0.26326,\n",
       "           0.26426,     0.26527,     0.26627,     0.26727,     0.26827,     0.26927,     0.27027,     0.27127,     0.27227,     0.27327,     0.27427,     0.27528,     0.27628,     0.27728,     0.27828,     0.27928,     0.28028,     0.28128,     0.28228,     0.28328,     0.28428,     0.28529,     0.28629,     0.28729,\n",
       "           0.28829,     0.28929,     0.29029,     0.29129,     0.29229,     0.29329,     0.29429,      0.2953,      0.2963,      0.2973,      0.2983,      0.2993,      0.3003,      0.3013,      0.3023,      0.3033,      0.3043,     0.30531,     0.30631,     0.30731,     0.30831,     0.30931,     0.31031,     0.31131,\n",
       "           0.31231,     0.31331,     0.31431,     0.31532,     0.31632,     0.31732,     0.31832,     0.31932,     0.32032,     0.32132,     0.32232,     0.32332,     0.32432,     0.32533,     0.32633,     0.32733,     0.32833,     0.32933,     0.33033,     0.33133,     0.33233,     0.33333,     0.33433,     0.33534,\n",
       "           0.33634,     0.33734,     0.33834,     0.33934,     0.34034,     0.34134,     0.34234,     0.34334,     0.34434,     0.34535,     0.34635,     0.34735,     0.34835,     0.34935,     0.35035,     0.35135,     0.35235,     0.35335,     0.35435,     0.35536,     0.35636,     0.35736,     0.35836,     0.35936,\n",
       "           0.36036,     0.36136,     0.36236,     0.36336,     0.36436,     0.36537,     0.36637,     0.36737,     0.36837,     0.36937,     0.37037,     0.37137,     0.37237,     0.37337,     0.37437,     0.37538,     0.37638,     0.37738,     0.37838,     0.37938,     0.38038,     0.38138,     0.38238,     0.38338,\n",
       "           0.38438,     0.38539,     0.38639,     0.38739,     0.38839,     0.38939,     0.39039,     0.39139,     0.39239,     0.39339,     0.39439,      0.3954,      0.3964,      0.3974,      0.3984,      0.3994,      0.4004,      0.4014,      0.4024,      0.4034,      0.4044,     0.40541,     0.40641,     0.40741,\n",
       "           0.40841,     0.40941,     0.41041,     0.41141,     0.41241,     0.41341,     0.41441,     0.41542,     0.41642,     0.41742,     0.41842,     0.41942,     0.42042,     0.42142,     0.42242,     0.42342,     0.42442,     0.42543,     0.42643,     0.42743,     0.42843,     0.42943,     0.43043,     0.43143,\n",
       "           0.43243,     0.43343,     0.43443,     0.43544,     0.43644,     0.43744,     0.43844,     0.43944,     0.44044,     0.44144,     0.44244,     0.44344,     0.44444,     0.44545,     0.44645,     0.44745,     0.44845,     0.44945,     0.45045,     0.45145,     0.45245,     0.45345,     0.45445,     0.45546,\n",
       "           0.45646,     0.45746,     0.45846,     0.45946,     0.46046,     0.46146,     0.46246,     0.46346,     0.46446,     0.46547,     0.46647,     0.46747,     0.46847,     0.46947,     0.47047,     0.47147,     0.47247,     0.47347,     0.47447,     0.47548,     0.47648,     0.47748,     0.47848,     0.47948,\n",
       "           0.48048,     0.48148,     0.48248,     0.48348,     0.48448,     0.48549,     0.48649,     0.48749,     0.48849,     0.48949,     0.49049,     0.49149,     0.49249,     0.49349,     0.49449,      0.4955,      0.4965,      0.4975,      0.4985,      0.4995,      0.5005,      0.5015,      0.5025,      0.5035,\n",
       "            0.5045,     0.50551,     0.50651,     0.50751,     0.50851,     0.50951,     0.51051,     0.51151,     0.51251,     0.51351,     0.51451,     0.51552,     0.51652,     0.51752,     0.51852,     0.51952,     0.52052,     0.52152,     0.52252,     0.52352,     0.52452,     0.52553,     0.52653,     0.52753,\n",
       "           0.52853,     0.52953,     0.53053,     0.53153,     0.53253,     0.53353,     0.53453,     0.53554,     0.53654,     0.53754,     0.53854,     0.53954,     0.54054,     0.54154,     0.54254,     0.54354,     0.54454,     0.54555,     0.54655,     0.54755,     0.54855,     0.54955,     0.55055,     0.55155,\n",
       "           0.55255,     0.55355,     0.55455,     0.55556,     0.55656,     0.55756,     0.55856,     0.55956,     0.56056,     0.56156,     0.56256,     0.56356,     0.56456,     0.56557,     0.56657,     0.56757,     0.56857,     0.56957,     0.57057,     0.57157,     0.57257,     0.57357,     0.57457,     0.57558,\n",
       "           0.57658,     0.57758,     0.57858,     0.57958,     0.58058,     0.58158,     0.58258,     0.58358,     0.58458,     0.58559,     0.58659,     0.58759,     0.58859,     0.58959,     0.59059,     0.59159,     0.59259,     0.59359,     0.59459,      0.5956,      0.5966,      0.5976,      0.5986,      0.5996,\n",
       "            0.6006,      0.6016,      0.6026,      0.6036,      0.6046,     0.60561,     0.60661,     0.60761,     0.60861,     0.60961,     0.61061,     0.61161,     0.61261,     0.61361,     0.61461,     0.61562,     0.61662,     0.61762,     0.61862,     0.61962,     0.62062,     0.62162,     0.62262,     0.62362,\n",
       "           0.62462,     0.62563,     0.62663,     0.62763,     0.62863,     0.62963,     0.63063,     0.63163,     0.63263,     0.63363,     0.63463,     0.63564,     0.63664,     0.63764,     0.63864,     0.63964,     0.64064,     0.64164,     0.64264,     0.64364,     0.64464,     0.64565,     0.64665,     0.64765,\n",
       "           0.64865,     0.64965,     0.65065,     0.65165,     0.65265,     0.65365,     0.65465,     0.65566,     0.65666,     0.65766,     0.65866,     0.65966,     0.66066,     0.66166,     0.66266,     0.66366,     0.66466,     0.66567,     0.66667,     0.66767,     0.66867,     0.66967,     0.67067,     0.67167,\n",
       "           0.67267,     0.67367,     0.67467,     0.67568,     0.67668,     0.67768,     0.67868,     0.67968,     0.68068,     0.68168,     0.68268,     0.68368,     0.68468,     0.68569,     0.68669,     0.68769,     0.68869,     0.68969,     0.69069,     0.69169,     0.69269,     0.69369,     0.69469,      0.6957,\n",
       "            0.6967,      0.6977,      0.6987,      0.6997,      0.7007,      0.7017,      0.7027,      0.7037,      0.7047,     0.70571,     0.70671,     0.70771,     0.70871,     0.70971,     0.71071,     0.71171,     0.71271,     0.71371,     0.71471,     0.71572,     0.71672,     0.71772,     0.71872,     0.71972,\n",
       "           0.72072,     0.72172,     0.72272,     0.72372,     0.72472,     0.72573,     0.72673,     0.72773,     0.72873,     0.72973,     0.73073,     0.73173,     0.73273,     0.73373,     0.73473,     0.73574,     0.73674,     0.73774,     0.73874,     0.73974,     0.74074,     0.74174,     0.74274,     0.74374,\n",
       "           0.74474,     0.74575,     0.74675,     0.74775,     0.74875,     0.74975,     0.75075,     0.75175,     0.75275,     0.75375,     0.75475,     0.75576,     0.75676,     0.75776,     0.75876,     0.75976,     0.76076,     0.76176,     0.76276,     0.76376,     0.76476,     0.76577,     0.76677,     0.76777,\n",
       "           0.76877,     0.76977,     0.77077,     0.77177,     0.77277,     0.77377,     0.77477,     0.77578,     0.77678,     0.77778,     0.77878,     0.77978,     0.78078,     0.78178,     0.78278,     0.78378,     0.78478,     0.78579,     0.78679,     0.78779,     0.78879,     0.78979,     0.79079,     0.79179,\n",
       "           0.79279,     0.79379,     0.79479,      0.7958,      0.7968,      0.7978,      0.7988,      0.7998,      0.8008,      0.8018,      0.8028,      0.8038,      0.8048,     0.80581,     0.80681,     0.80781,     0.80881,     0.80981,     0.81081,     0.81181,     0.81281,     0.81381,     0.81481,     0.81582,\n",
       "           0.81682,     0.81782,     0.81882,     0.81982,     0.82082,     0.82182,     0.82282,     0.82382,     0.82482,     0.82583,     0.82683,     0.82783,     0.82883,     0.82983,     0.83083,     0.83183,     0.83283,     0.83383,     0.83483,     0.83584,     0.83684,     0.83784,     0.83884,     0.83984,\n",
       "           0.84084,     0.84184,     0.84284,     0.84384,     0.84484,     0.84585,     0.84685,     0.84785,     0.84885,     0.84985,     0.85085,     0.85185,     0.85285,     0.85385,     0.85485,     0.85586,     0.85686,     0.85786,     0.85886,     0.85986,     0.86086,     0.86186,     0.86286,     0.86386,\n",
       "           0.86486,     0.86587,     0.86687,     0.86787,     0.86887,     0.86987,     0.87087,     0.87187,     0.87287,     0.87387,     0.87487,     0.87588,     0.87688,     0.87788,     0.87888,     0.87988,     0.88088,     0.88188,     0.88288,     0.88388,     0.88488,     0.88589,     0.88689,     0.88789,\n",
       "           0.88889,     0.88989,     0.89089,     0.89189,     0.89289,     0.89389,     0.89489,      0.8959,      0.8969,      0.8979,      0.8989,      0.8999,      0.9009,      0.9019,      0.9029,      0.9039,      0.9049,     0.90591,     0.90691,     0.90791,     0.90891,     0.90991,     0.91091,     0.91191,\n",
       "           0.91291,     0.91391,     0.91491,     0.91592,     0.91692,     0.91792,     0.91892,     0.91992,     0.92092,     0.92192,     0.92292,     0.92392,     0.92492,     0.92593,     0.92693,     0.92793,     0.92893,     0.92993,     0.93093,     0.93193,     0.93293,     0.93393,     0.93493,     0.93594,\n",
       "           0.93694,     0.93794,     0.93894,     0.93994,     0.94094,     0.94194,     0.94294,     0.94394,     0.94494,     0.94595,     0.94695,     0.94795,     0.94895,     0.94995,     0.95095,     0.95195,     0.95295,     0.95395,     0.95495,     0.95596,     0.95696,     0.95796,     0.95896,     0.95996,\n",
       "           0.96096,     0.96196,     0.96296,     0.96396,     0.96496,     0.96597,     0.96697,     0.96797,     0.96897,     0.96997,     0.97097,     0.97197,     0.97297,     0.97397,     0.97497,     0.97598,     0.97698,     0.97798,     0.97898,     0.97998,     0.98098,     0.98198,     0.98298,     0.98398,\n",
       "           0.98498,     0.98599,     0.98699,     0.98799,     0.98899,     0.98999,     0.99099,     0.99199,     0.99299,     0.99399,     0.99499,       0.996,       0.997,       0.998,       0.999,           1]), array([[    0.66255,     0.66255,     0.74619,      0.7884,     0.81432,      0.8299,     0.84394,     0.85741,      0.8669,      0.8703,     0.87691,     0.88209,     0.88645,     0.89024,     0.89589,     0.89959,     0.90211,     0.90429,     0.90627,     0.90683,     0.90969,     0.91212,     0.91347,\n",
       "            0.91476,     0.91498,      0.9152,     0.91579,     0.91648,     0.91691,     0.91747,     0.91982,     0.92081,     0.92124,     0.92254,     0.92274,     0.92295,     0.92315,     0.92429,     0.92508,     0.92569,     0.92598,     0.92625,     0.92655,     0.92691,     0.92743,     0.92827,\n",
       "             0.9284,     0.92838,     0.92837,     0.92946,     0.92975,     0.92982,      0.9299,     0.92997,     0.93004,     0.93011,     0.93019,     0.93026,     0.93033,     0.93038,     0.93037,     0.93036,     0.93035,     0.93034,     0.93071,     0.93177,     0.93223,     0.93261,     0.93296,\n",
       "             0.9332,     0.93341,     0.93361,     0.93447,     0.93477,     0.93508,     0.93529,     0.93549,      0.9357,     0.93587,     0.93603,     0.93618,     0.93634,     0.93653,     0.93678,     0.93704,     0.93787,     0.93824,     0.93863,     0.93903,     0.93926,     0.93938,      0.9395,\n",
       "            0.93962,     0.93973,     0.93985,     0.93984,     0.94006,      0.9403,     0.94053,     0.94082,      0.9411,     0.94176,     0.94329,     0.94326,     0.94371,     0.94409,     0.94431,     0.94454,      0.9461,     0.94651,     0.94674,     0.94674,     0.94673,     0.94672,     0.94672,\n",
       "            0.94671,     0.94728,     0.94763,     0.94786,     0.94809,     0.94884,      0.9489,     0.94896,     0.94903,     0.94909,     0.94915,     0.94921,     0.94927,     0.94933,     0.94939,     0.94945,     0.94951,     0.95032,     0.95043,     0.95053,     0.95064,     0.95075,     0.95086,\n",
       "            0.95098,     0.95112,     0.95127,     0.95141,     0.95156,     0.95196,     0.95269,      0.9532,     0.95349,     0.95376,     0.95381,     0.95395,      0.9541,     0.95424,     0.95438,     0.95461,      0.9549,     0.95516,     0.95521,     0.95526,     0.95531,     0.95536,     0.95541,\n",
       "            0.95546,     0.95551,     0.95556,     0.95561,     0.95566,     0.95571,     0.95576,     0.95581,     0.95586,     0.95595,     0.95606,     0.95616,     0.95627,     0.95638,     0.95648,     0.95659,     0.95675,     0.95691,     0.95707,     0.95723,     0.95791,     0.95818,     0.95836,\n",
       "            0.95854,     0.95872,     0.95926,     0.95972,     0.96011,     0.96018,     0.96017,     0.96017,     0.96016,     0.96016,     0.96015,     0.96019,     0.96023,     0.96027,     0.96031,     0.96035,     0.96039,     0.96043,     0.96047,     0.96051,     0.96055,     0.96059,     0.96063,\n",
       "            0.96068,     0.96072,     0.96076,      0.9608,     0.96084,     0.96087,     0.96101,     0.96114,     0.96128,     0.96142,     0.96156,     0.96207,      0.9624,     0.96258,     0.96276,     0.96294,     0.96309,     0.96323,     0.96336,     0.96349,     0.96362,     0.96375,     0.96374,\n",
       "            0.96374,     0.96374,     0.96373,     0.96373,     0.96373,     0.96373,     0.96372,     0.96372,     0.96404,     0.96443,     0.96457,     0.96474,     0.96491,     0.96508,     0.96518,     0.96524,      0.9653,     0.96535,     0.96541,     0.96546,     0.96552,     0.96557,     0.96563,\n",
       "            0.96568,     0.96574,      0.9658,     0.96585,     0.96588,     0.96588,     0.96588,     0.96588,     0.96588,     0.96587,     0.96587,     0.96587,     0.96587,     0.96587,     0.96587,     0.96586,     0.96586,     0.96586,     0.96586,     0.96616,     0.96658,     0.96657,     0.96658,\n",
       "            0.96672,     0.96686,     0.96699,     0.96713,     0.96727,     0.96763,     0.96804,     0.96816,     0.96828,     0.96839,     0.96851,     0.96862,     0.96874,     0.96958,     0.96969,     0.96979,     0.96989,     0.96999,     0.97009,     0.97019,     0.97025,     0.97025,     0.97025,\n",
       "            0.97025,     0.97025,     0.97025,     0.97025,     0.97025,     0.97024,     0.97024,     0.97024,     0.97024,     0.97024,     0.97024,     0.97024,     0.97024,     0.97024,     0.97024,     0.97024,     0.97024,     0.97023,     0.97023,     0.97023,     0.97023,     0.97023,     0.97023,\n",
       "            0.97023,      0.9703,     0.97039,     0.97047,     0.97056,     0.97065,     0.97073,     0.97082,     0.97091,     0.97097,     0.97097,     0.97096,     0.97096,     0.97095,     0.97095,     0.97095,     0.97094,     0.97094,     0.97093,     0.97093,     0.97153,     0.97181,     0.97198,\n",
       "            0.97215,     0.97232,     0.97244,     0.97249,     0.97255,      0.9726,     0.97266,     0.97272,     0.97277,     0.97283,     0.97288,     0.97294,     0.97299,     0.97305,      0.9731,     0.97316,     0.97321,     0.97326,     0.97332,     0.97337,     0.97342,     0.97347,     0.97352,\n",
       "            0.97358,     0.97363,     0.97368,     0.97373,     0.97378,     0.97383,     0.97389,      0.9739,      0.9739,      0.9739,     0.97389,     0.97389,     0.97409,     0.97429,      0.9745,     0.97468,     0.97481,     0.97495,     0.97508,     0.97521,     0.97535,     0.97546,     0.97556,\n",
       "            0.97566,     0.97577,     0.97587,     0.97597,     0.97607,     0.97613,     0.97613,     0.97613,     0.97613,     0.97613,     0.97613,     0.97612,     0.97612,     0.97612,     0.97612,     0.97687,     0.97687,     0.97687,     0.97687,     0.97687,     0.97686,     0.97686,     0.97686,\n",
       "            0.97686,     0.97686,     0.97686,     0.97686,     0.97686,     0.97686,     0.97686,     0.97686,     0.97686,     0.97685,     0.97685,     0.97685,     0.97685,     0.97686,     0.97694,     0.97701,     0.97708,     0.97715,     0.97722,      0.9773,     0.97737,     0.97744,     0.97751,\n",
       "            0.97758,     0.97779,     0.97804,      0.9783,     0.97866,     0.97905,     0.97911,      0.9791,     0.97917,     0.97925,     0.97932,      0.9794,     0.97948,     0.97956,     0.97964,     0.97971,     0.97979,     0.97988,     0.98009,      0.9803,     0.98051,     0.98062,     0.98061,\n",
       "             0.9806,      0.9806,      0.9806,      0.9806,      0.9806,      0.9806,      0.9806,      0.9806,      0.9806,      0.9806,     0.98059,     0.98059,     0.98059,     0.98059,     0.98059,     0.98059,     0.98059,     0.98058,     0.98058,     0.98057,     0.98056,     0.98056,     0.98055,\n",
       "            0.98055,     0.98055,     0.98055,     0.98054,     0.98054,     0.98053,     0.98053,     0.98053,     0.98053,     0.98053,     0.98053,     0.98052,     0.98052,     0.98052,     0.98052,     0.98052,     0.98052,     0.98052,     0.98052,     0.98052,     0.98052,     0.98052,     0.98052,\n",
       "            0.98051,     0.98051,     0.98051,     0.98051,     0.98051,      0.9805,      0.9805,      0.9805,     0.98049,     0.98048,     0.98054,     0.98061,     0.98067,     0.98074,      0.9808,     0.98087,     0.98093,       0.981,     0.98107,     0.98113,      0.9812,     0.98139,      0.9821,\n",
       "            0.98249,     0.98279,     0.98278,     0.98278,     0.98278,     0.98278,     0.98278,     0.98278,     0.98278,     0.98278,     0.98277,     0.98277,     0.98277,     0.98277,     0.98277,     0.98277,     0.98277,     0.98277,     0.98277,     0.98276,     0.98276,     0.98276,     0.98276,\n",
       "            0.98276,     0.98276,     0.98276,     0.98276,     0.98276,     0.98275,     0.98275,     0.98275,     0.98275,     0.98275,     0.98275,     0.98275,     0.98275,     0.98275,     0.98275,     0.98351,      0.9835,     0.98349,     0.98351,     0.98356,     0.98361,     0.98366,     0.98371,\n",
       "            0.98375,      0.9838,     0.98385,      0.9839,     0.98395,     0.98399,     0.98404,     0.98409,     0.98414,     0.98419,     0.98424,     0.98438,     0.98458,     0.98478,     0.98498,     0.98503,     0.98502,     0.98502,     0.98502,     0.98502,     0.98501,     0.98511,     0.98538,\n",
       "            0.98564,     0.98616,     0.98662,     0.98673,     0.98685,     0.98696,     0.98708,     0.98719,      0.9873,     0.98733,     0.98733,     0.98733,     0.98732,     0.98732,     0.98732,     0.98732,     0.98732,     0.98731,     0.98731,     0.98731,     0.98731,      0.9873,      0.9873,\n",
       "             0.9873,      0.9873,      0.9873,      0.9873,      0.9873,      0.9873,     0.98729,     0.98729,     0.98729,     0.98729,     0.98791,     0.98812,     0.98817,     0.98822,     0.98827,     0.98833,     0.98838,     0.98843,     0.98848,     0.98853,     0.98859,     0.98864,     0.98869,\n",
       "            0.98874,     0.98879,     0.98885,     0.98886,     0.98908,      0.9894,     0.98964,     0.98964,     0.98964,     0.98964,     0.98964,     0.98964,     0.98964,     0.98964,     0.98964,     0.98964,     0.98964,     0.98964,     0.98963,     0.98963,     0.98963,     0.98963,     0.98963,\n",
       "            0.98963,     0.98979,     0.99002,     0.99025,     0.99042,     0.99041,     0.99041,     0.99041,     0.99041,     0.99041,     0.99041,     0.99041,     0.99041,     0.99041,      0.9904,      0.9904,      0.9904,     0.99039,     0.99039,     0.99039,     0.99039,     0.99039,     0.99039,\n",
       "            0.99038,     0.99038,     0.99038,     0.99038,     0.99038,     0.99037,     0.99037,     0.99037,     0.99037,     0.99037,     0.99036,     0.99036,     0.99036,     0.99036,     0.99036,     0.99035,     0.99034,     0.99034,     0.99034,     0.99034,     0.99034,     0.99034,     0.99033,\n",
       "            0.99033,     0.99033,     0.99033,     0.99033,     0.99032,     0.99032,     0.99049,     0.99067,     0.99086,     0.99104,     0.99111,     0.99111,     0.99111,     0.99111,     0.99111,      0.9911,     0.99123,     0.99178,      0.9919,      0.9919,      0.9919,      0.9919,      0.9919,\n",
       "             0.9919,      0.9919,      0.9919,      0.9919,      0.9919,      0.9919,      0.9919,      0.9919,      0.9919,      0.9919,     0.99189,     0.99189,     0.99189,     0.99189,     0.99188,     0.99188,     0.99187,     0.99187,     0.99187,     0.99187,     0.99192,     0.99206,      0.9922,\n",
       "            0.99233,     0.99247,     0.99261,     0.99348,     0.99347,     0.99346,     0.99346,     0.99346,     0.99346,     0.99346,     0.99346,     0.99346,     0.99345,     0.99345,     0.99427,     0.99426,     0.99426,     0.99426,     0.99425,     0.99425,     0.99425,     0.99425,     0.99425,\n",
       "            0.99424,     0.99424,     0.99424,     0.99424,     0.99424,     0.99423,     0.99423,     0.99423,     0.99423,     0.99423,     0.99423,     0.99423,     0.99423,     0.99422,     0.99422,     0.99421,     0.99421,     0.99421,     0.99421,      0.9942,      0.9942,      0.9942,      0.9942,\n",
       "             0.9942,      0.9942,      0.9942,      0.9942,      0.9942,      0.9942,     0.99419,     0.99419,     0.99418,     0.99418,     0.99418,     0.99418,     0.99417,     0.99417,     0.99417,     0.99416,     0.99416,     0.99415,     0.99415,     0.99415,     0.99415,     0.99415,     0.99415,\n",
       "            0.99415,     0.99414,     0.99414,     0.99496,     0.99496,     0.99495,     0.99495,     0.99495,     0.99494,     0.99494,     0.99494,     0.99494,     0.99578,     0.99577,     0.99577,     0.99577,     0.99577,     0.99577,     0.99577,     0.99577,     0.99576,     0.99576,     0.99576,\n",
       "            0.99576,     0.99575,     0.99575,     0.99575,     0.99574,     0.99574,     0.99574,     0.99656,     0.99658,     0.99658,     0.99657,     0.99657,     0.99657,     0.99657,     0.99657,     0.99656,     0.99656,     0.99655,     0.99655,     0.99655,     0.99654,     0.99654,     0.99654,\n",
       "            0.99653,     0.99653,     0.99652,     0.99652,     0.99652,     0.99651,     0.99651,      0.9965,     0.99649,     0.99701,     0.99736,     0.99824,     0.99823,     0.99823,     0.99823,     0.99823,     0.99822,     0.99822,     0.99822,     0.99821,     0.99821,     0.99821,     0.99821,\n",
       "            0.99821,     0.99821,     0.99821,     0.99821,     0.99821,     0.99821,      0.9982,     0.99819,     0.99819,     0.99818,     0.99818,     0.99818,     0.99817,     0.99817,     0.99817,     0.99817,     0.99817,     0.99817,     0.99816,     0.99816,     0.99816,     0.99815,     0.99815,\n",
       "            0.99814,     0.99814,     0.99814,     0.99814,     0.99813,     0.99813,     0.99813,     0.99812,     0.99812,     0.99812,     0.99812,     0.99905,     0.99905,     0.99905,     0.99905,     0.99904,     0.99904,     0.99904,     0.99903,     0.99903,     0.99903,     0.99902,     0.99902,\n",
       "            0.99902,     0.99901,     0.99901,       0.999,       0.999,     0.99899,     0.99899,     0.99899,     0.99898,     0.99898,     0.99896,     0.99896,     0.99894,     0.99894,     0.99892,     0.99891,      0.9989,     0.99887,     0.99883,     0.99879,     0.99866,     0.99853,     0.99823,\n",
       "                  1,           1,           1,           1,           1,           1,           1,           1,           1,           1,           1,           1,           1,           1,           1,           1,           1,           1,           1,           1,           1,           1,           1,\n",
       "                  1,           1,           1,           1,           1,           1,           1,           1,           1,           1,           1]]), 'Confidence', 'Precision'], [array([          0,    0.001001,    0.002002,    0.003003,    0.004004,    0.005005,    0.006006,    0.007007,    0.008008,    0.009009,     0.01001,    0.011011,    0.012012,    0.013013,    0.014014,    0.015015,    0.016016,    0.017017,    0.018018,    0.019019,     0.02002,    0.021021,    0.022022,    0.023023,\n",
       "          0.024024,    0.025025,    0.026026,    0.027027,    0.028028,    0.029029,     0.03003,    0.031031,    0.032032,    0.033033,    0.034034,    0.035035,    0.036036,    0.037037,    0.038038,    0.039039,     0.04004,    0.041041,    0.042042,    0.043043,    0.044044,    0.045045,    0.046046,    0.047047,\n",
       "          0.048048,    0.049049,     0.05005,    0.051051,    0.052052,    0.053053,    0.054054,    0.055055,    0.056056,    0.057057,    0.058058,    0.059059,     0.06006,    0.061061,    0.062062,    0.063063,    0.064064,    0.065065,    0.066066,    0.067067,    0.068068,    0.069069,     0.07007,    0.071071,\n",
       "          0.072072,    0.073073,    0.074074,    0.075075,    0.076076,    0.077077,    0.078078,    0.079079,     0.08008,    0.081081,    0.082082,    0.083083,    0.084084,    0.085085,    0.086086,    0.087087,    0.088088,    0.089089,     0.09009,    0.091091,    0.092092,    0.093093,    0.094094,    0.095095,\n",
       "          0.096096,    0.097097,    0.098098,    0.099099,      0.1001,      0.1011,      0.1021,      0.1031,      0.1041,     0.10511,     0.10611,     0.10711,     0.10811,     0.10911,     0.11011,     0.11111,     0.11211,     0.11311,     0.11411,     0.11512,     0.11612,     0.11712,     0.11812,     0.11912,\n",
       "           0.12012,     0.12112,     0.12212,     0.12312,     0.12412,     0.12513,     0.12613,     0.12713,     0.12813,     0.12913,     0.13013,     0.13113,     0.13213,     0.13313,     0.13413,     0.13514,     0.13614,     0.13714,     0.13814,     0.13914,     0.14014,     0.14114,     0.14214,     0.14314,\n",
       "           0.14414,     0.14515,     0.14615,     0.14715,     0.14815,     0.14915,     0.15015,     0.15115,     0.15215,     0.15315,     0.15415,     0.15516,     0.15616,     0.15716,     0.15816,     0.15916,     0.16016,     0.16116,     0.16216,     0.16316,     0.16416,     0.16517,     0.16617,     0.16717,\n",
       "           0.16817,     0.16917,     0.17017,     0.17117,     0.17217,     0.17317,     0.17417,     0.17518,     0.17618,     0.17718,     0.17818,     0.17918,     0.18018,     0.18118,     0.18218,     0.18318,     0.18418,     0.18519,     0.18619,     0.18719,     0.18819,     0.18919,     0.19019,     0.19119,\n",
       "           0.19219,     0.19319,     0.19419,      0.1952,      0.1962,      0.1972,      0.1982,      0.1992,      0.2002,      0.2012,      0.2022,      0.2032,      0.2042,     0.20521,     0.20621,     0.20721,     0.20821,     0.20921,     0.21021,     0.21121,     0.21221,     0.21321,     0.21421,     0.21522,\n",
       "           0.21622,     0.21722,     0.21822,     0.21922,     0.22022,     0.22122,     0.22222,     0.22322,     0.22422,     0.22523,     0.22623,     0.22723,     0.22823,     0.22923,     0.23023,     0.23123,     0.23223,     0.23323,     0.23423,     0.23524,     0.23624,     0.23724,     0.23824,     0.23924,\n",
       "           0.24024,     0.24124,     0.24224,     0.24324,     0.24424,     0.24525,     0.24625,     0.24725,     0.24825,     0.24925,     0.25025,     0.25125,     0.25225,     0.25325,     0.25425,     0.25526,     0.25626,     0.25726,     0.25826,     0.25926,     0.26026,     0.26126,     0.26226,     0.26326,\n",
       "           0.26426,     0.26527,     0.26627,     0.26727,     0.26827,     0.26927,     0.27027,     0.27127,     0.27227,     0.27327,     0.27427,     0.27528,     0.27628,     0.27728,     0.27828,     0.27928,     0.28028,     0.28128,     0.28228,     0.28328,     0.28428,     0.28529,     0.28629,     0.28729,\n",
       "           0.28829,     0.28929,     0.29029,     0.29129,     0.29229,     0.29329,     0.29429,      0.2953,      0.2963,      0.2973,      0.2983,      0.2993,      0.3003,      0.3013,      0.3023,      0.3033,      0.3043,     0.30531,     0.30631,     0.30731,     0.30831,     0.30931,     0.31031,     0.31131,\n",
       "           0.31231,     0.31331,     0.31431,     0.31532,     0.31632,     0.31732,     0.31832,     0.31932,     0.32032,     0.32132,     0.32232,     0.32332,     0.32432,     0.32533,     0.32633,     0.32733,     0.32833,     0.32933,     0.33033,     0.33133,     0.33233,     0.33333,     0.33433,     0.33534,\n",
       "           0.33634,     0.33734,     0.33834,     0.33934,     0.34034,     0.34134,     0.34234,     0.34334,     0.34434,     0.34535,     0.34635,     0.34735,     0.34835,     0.34935,     0.35035,     0.35135,     0.35235,     0.35335,     0.35435,     0.35536,     0.35636,     0.35736,     0.35836,     0.35936,\n",
       "           0.36036,     0.36136,     0.36236,     0.36336,     0.36436,     0.36537,     0.36637,     0.36737,     0.36837,     0.36937,     0.37037,     0.37137,     0.37237,     0.37337,     0.37437,     0.37538,     0.37638,     0.37738,     0.37838,     0.37938,     0.38038,     0.38138,     0.38238,     0.38338,\n",
       "           0.38438,     0.38539,     0.38639,     0.38739,     0.38839,     0.38939,     0.39039,     0.39139,     0.39239,     0.39339,     0.39439,      0.3954,      0.3964,      0.3974,      0.3984,      0.3994,      0.4004,      0.4014,      0.4024,      0.4034,      0.4044,     0.40541,     0.40641,     0.40741,\n",
       "           0.40841,     0.40941,     0.41041,     0.41141,     0.41241,     0.41341,     0.41441,     0.41542,     0.41642,     0.41742,     0.41842,     0.41942,     0.42042,     0.42142,     0.42242,     0.42342,     0.42442,     0.42543,     0.42643,     0.42743,     0.42843,     0.42943,     0.43043,     0.43143,\n",
       "           0.43243,     0.43343,     0.43443,     0.43544,     0.43644,     0.43744,     0.43844,     0.43944,     0.44044,     0.44144,     0.44244,     0.44344,     0.44444,     0.44545,     0.44645,     0.44745,     0.44845,     0.44945,     0.45045,     0.45145,     0.45245,     0.45345,     0.45445,     0.45546,\n",
       "           0.45646,     0.45746,     0.45846,     0.45946,     0.46046,     0.46146,     0.46246,     0.46346,     0.46446,     0.46547,     0.46647,     0.46747,     0.46847,     0.46947,     0.47047,     0.47147,     0.47247,     0.47347,     0.47447,     0.47548,     0.47648,     0.47748,     0.47848,     0.47948,\n",
       "           0.48048,     0.48148,     0.48248,     0.48348,     0.48448,     0.48549,     0.48649,     0.48749,     0.48849,     0.48949,     0.49049,     0.49149,     0.49249,     0.49349,     0.49449,      0.4955,      0.4965,      0.4975,      0.4985,      0.4995,      0.5005,      0.5015,      0.5025,      0.5035,\n",
       "            0.5045,     0.50551,     0.50651,     0.50751,     0.50851,     0.50951,     0.51051,     0.51151,     0.51251,     0.51351,     0.51451,     0.51552,     0.51652,     0.51752,     0.51852,     0.51952,     0.52052,     0.52152,     0.52252,     0.52352,     0.52452,     0.52553,     0.52653,     0.52753,\n",
       "           0.52853,     0.52953,     0.53053,     0.53153,     0.53253,     0.53353,     0.53453,     0.53554,     0.53654,     0.53754,     0.53854,     0.53954,     0.54054,     0.54154,     0.54254,     0.54354,     0.54454,     0.54555,     0.54655,     0.54755,     0.54855,     0.54955,     0.55055,     0.55155,\n",
       "           0.55255,     0.55355,     0.55455,     0.55556,     0.55656,     0.55756,     0.55856,     0.55956,     0.56056,     0.56156,     0.56256,     0.56356,     0.56456,     0.56557,     0.56657,     0.56757,     0.56857,     0.56957,     0.57057,     0.57157,     0.57257,     0.57357,     0.57457,     0.57558,\n",
       "           0.57658,     0.57758,     0.57858,     0.57958,     0.58058,     0.58158,     0.58258,     0.58358,     0.58458,     0.58559,     0.58659,     0.58759,     0.58859,     0.58959,     0.59059,     0.59159,     0.59259,     0.59359,     0.59459,      0.5956,      0.5966,      0.5976,      0.5986,      0.5996,\n",
       "            0.6006,      0.6016,      0.6026,      0.6036,      0.6046,     0.60561,     0.60661,     0.60761,     0.60861,     0.60961,     0.61061,     0.61161,     0.61261,     0.61361,     0.61461,     0.61562,     0.61662,     0.61762,     0.61862,     0.61962,     0.62062,     0.62162,     0.62262,     0.62362,\n",
       "           0.62462,     0.62563,     0.62663,     0.62763,     0.62863,     0.62963,     0.63063,     0.63163,     0.63263,     0.63363,     0.63463,     0.63564,     0.63664,     0.63764,     0.63864,     0.63964,     0.64064,     0.64164,     0.64264,     0.64364,     0.64464,     0.64565,     0.64665,     0.64765,\n",
       "           0.64865,     0.64965,     0.65065,     0.65165,     0.65265,     0.65365,     0.65465,     0.65566,     0.65666,     0.65766,     0.65866,     0.65966,     0.66066,     0.66166,     0.66266,     0.66366,     0.66466,     0.66567,     0.66667,     0.66767,     0.66867,     0.66967,     0.67067,     0.67167,\n",
       "           0.67267,     0.67367,     0.67467,     0.67568,     0.67668,     0.67768,     0.67868,     0.67968,     0.68068,     0.68168,     0.68268,     0.68368,     0.68468,     0.68569,     0.68669,     0.68769,     0.68869,     0.68969,     0.69069,     0.69169,     0.69269,     0.69369,     0.69469,      0.6957,\n",
       "            0.6967,      0.6977,      0.6987,      0.6997,      0.7007,      0.7017,      0.7027,      0.7037,      0.7047,     0.70571,     0.70671,     0.70771,     0.70871,     0.70971,     0.71071,     0.71171,     0.71271,     0.71371,     0.71471,     0.71572,     0.71672,     0.71772,     0.71872,     0.71972,\n",
       "           0.72072,     0.72172,     0.72272,     0.72372,     0.72472,     0.72573,     0.72673,     0.72773,     0.72873,     0.72973,     0.73073,     0.73173,     0.73273,     0.73373,     0.73473,     0.73574,     0.73674,     0.73774,     0.73874,     0.73974,     0.74074,     0.74174,     0.74274,     0.74374,\n",
       "           0.74474,     0.74575,     0.74675,     0.74775,     0.74875,     0.74975,     0.75075,     0.75175,     0.75275,     0.75375,     0.75475,     0.75576,     0.75676,     0.75776,     0.75876,     0.75976,     0.76076,     0.76176,     0.76276,     0.76376,     0.76476,     0.76577,     0.76677,     0.76777,\n",
       "           0.76877,     0.76977,     0.77077,     0.77177,     0.77277,     0.77377,     0.77477,     0.77578,     0.77678,     0.77778,     0.77878,     0.77978,     0.78078,     0.78178,     0.78278,     0.78378,     0.78478,     0.78579,     0.78679,     0.78779,     0.78879,     0.78979,     0.79079,     0.79179,\n",
       "           0.79279,     0.79379,     0.79479,      0.7958,      0.7968,      0.7978,      0.7988,      0.7998,      0.8008,      0.8018,      0.8028,      0.8038,      0.8048,     0.80581,     0.80681,     0.80781,     0.80881,     0.80981,     0.81081,     0.81181,     0.81281,     0.81381,     0.81481,     0.81582,\n",
       "           0.81682,     0.81782,     0.81882,     0.81982,     0.82082,     0.82182,     0.82282,     0.82382,     0.82482,     0.82583,     0.82683,     0.82783,     0.82883,     0.82983,     0.83083,     0.83183,     0.83283,     0.83383,     0.83483,     0.83584,     0.83684,     0.83784,     0.83884,     0.83984,\n",
       "           0.84084,     0.84184,     0.84284,     0.84384,     0.84484,     0.84585,     0.84685,     0.84785,     0.84885,     0.84985,     0.85085,     0.85185,     0.85285,     0.85385,     0.85485,     0.85586,     0.85686,     0.85786,     0.85886,     0.85986,     0.86086,     0.86186,     0.86286,     0.86386,\n",
       "           0.86486,     0.86587,     0.86687,     0.86787,     0.86887,     0.86987,     0.87087,     0.87187,     0.87287,     0.87387,     0.87487,     0.87588,     0.87688,     0.87788,     0.87888,     0.87988,     0.88088,     0.88188,     0.88288,     0.88388,     0.88488,     0.88589,     0.88689,     0.88789,\n",
       "           0.88889,     0.88989,     0.89089,     0.89189,     0.89289,     0.89389,     0.89489,      0.8959,      0.8969,      0.8979,      0.8989,      0.8999,      0.9009,      0.9019,      0.9029,      0.9039,      0.9049,     0.90591,     0.90691,     0.90791,     0.90891,     0.90991,     0.91091,     0.91191,\n",
       "           0.91291,     0.91391,     0.91491,     0.91592,     0.91692,     0.91792,     0.91892,     0.91992,     0.92092,     0.92192,     0.92292,     0.92392,     0.92492,     0.92593,     0.92693,     0.92793,     0.92893,     0.92993,     0.93093,     0.93193,     0.93293,     0.93393,     0.93493,     0.93594,\n",
       "           0.93694,     0.93794,     0.93894,     0.93994,     0.94094,     0.94194,     0.94294,     0.94394,     0.94494,     0.94595,     0.94695,     0.94795,     0.94895,     0.94995,     0.95095,     0.95195,     0.95295,     0.95395,     0.95495,     0.95596,     0.95696,     0.95796,     0.95896,     0.95996,\n",
       "           0.96096,     0.96196,     0.96296,     0.96396,     0.96496,     0.96597,     0.96697,     0.96797,     0.96897,     0.96997,     0.97097,     0.97197,     0.97297,     0.97397,     0.97497,     0.97598,     0.97698,     0.97798,     0.97898,     0.97998,     0.98098,     0.98198,     0.98298,     0.98398,\n",
       "           0.98498,     0.98599,     0.98699,     0.98799,     0.98899,     0.98999,     0.99099,     0.99199,     0.99299,     0.99399,     0.99499,       0.996,       0.997,       0.998,       0.999,           1]), array([[    0.99922,     0.99922,     0.99922,     0.99922,     0.99845,     0.99845,     0.99845,     0.99845,     0.99767,     0.99767,     0.99767,     0.99767,     0.99767,     0.99767,     0.99767,     0.99767,     0.99767,     0.99767,     0.99767,     0.99767,     0.99767,     0.99767,     0.99767,\n",
       "            0.99767,     0.99767,     0.99767,     0.99767,     0.99767,     0.99767,     0.99767,     0.99767,     0.99767,     0.99767,     0.99767,     0.99767,     0.99767,     0.99767,      0.9969,     0.99612,     0.99612,     0.99612,     0.99612,     0.99612,     0.99612,     0.99612,     0.99612,\n",
       "             0.9959,     0.99563,     0.99537,     0.99535,     0.99535,     0.99535,     0.99535,     0.99535,     0.99535,     0.99535,     0.99535,     0.99535,     0.99535,     0.99529,     0.99511,     0.99493,     0.99475,     0.99457,     0.99457,     0.99457,     0.99457,     0.99457,     0.99457,\n",
       "            0.99457,     0.99457,     0.99457,     0.99457,     0.99457,     0.99457,     0.99457,     0.99457,     0.99457,     0.99457,     0.99457,     0.99457,     0.99457,     0.99457,     0.99457,     0.99457,     0.99457,     0.99457,     0.99457,     0.99457,     0.99457,     0.99457,     0.99457,\n",
       "            0.99457,     0.99457,     0.99457,     0.99385,     0.99379,     0.99379,     0.99379,     0.99379,     0.99379,     0.99379,     0.99357,     0.99314,     0.99302,     0.99302,     0.99302,     0.99302,     0.99302,     0.99302,     0.99296,     0.99284,     0.99272,     0.99259,     0.99247,\n",
       "            0.99235,     0.99224,     0.99224,     0.99224,     0.99224,     0.99224,     0.99224,     0.99224,     0.99224,     0.99224,     0.99224,     0.99224,     0.99224,     0.99224,     0.99224,     0.99224,     0.99224,     0.99224,     0.99224,     0.99224,     0.99224,     0.99224,     0.99224,\n",
       "            0.99224,     0.99224,     0.99224,     0.99224,     0.99224,     0.99224,     0.99224,     0.99224,     0.99224,     0.99216,     0.99147,     0.99147,     0.99147,     0.99147,     0.99147,     0.99147,     0.99147,     0.99147,     0.99147,     0.99147,     0.99147,     0.99147,     0.99147,\n",
       "            0.99147,     0.99147,     0.99147,     0.99147,     0.99147,     0.99147,     0.99147,     0.99147,     0.99147,     0.99147,     0.99147,     0.99147,     0.99147,     0.99147,     0.99147,     0.99147,     0.99147,     0.99147,     0.99147,     0.99147,     0.99147,     0.99147,     0.99147,\n",
       "            0.99147,     0.99147,     0.99147,     0.99147,     0.99147,     0.99136,     0.99123,      0.9911,     0.99097,     0.99084,     0.99071,     0.99069,     0.99069,     0.99069,     0.99069,     0.99069,     0.99069,     0.99069,     0.99069,     0.99069,     0.99069,     0.99069,     0.99069,\n",
       "            0.99069,     0.99069,     0.99069,     0.99069,     0.99069,     0.98991,     0.98991,     0.98991,     0.98991,     0.98991,     0.98991,     0.98991,     0.98991,     0.98991,     0.98991,     0.98991,     0.98991,     0.98991,     0.98991,     0.98991,     0.98991,     0.98991,     0.98983,\n",
       "            0.98975,     0.98967,     0.98959,     0.98951,     0.98943,     0.98935,     0.98927,     0.98919,     0.98914,     0.98851,     0.98836,     0.98836,     0.98836,     0.98836,     0.98836,     0.98836,     0.98836,     0.98836,     0.98836,     0.98836,     0.98836,     0.98836,     0.98836,\n",
       "            0.98836,     0.98836,     0.98836,     0.98836,     0.98834,     0.98829,     0.98824,     0.98819,     0.98814,     0.98808,     0.98803,     0.98798,     0.98793,     0.98788,     0.98783,     0.98778,     0.98773,     0.98767,     0.98762,     0.98759,     0.98741,     0.98709,     0.98681,\n",
       "            0.98681,     0.98681,     0.98681,     0.98681,     0.98681,     0.98681,     0.98681,     0.98681,     0.98681,     0.98681,     0.98681,     0.98681,     0.98681,     0.98681,     0.98681,     0.98681,     0.98681,     0.98681,     0.98681,     0.98681,      0.9868,     0.98677,     0.98674,\n",
       "            0.98671,     0.98668,     0.98665,     0.98662,      0.9866,     0.98657,     0.98654,     0.98651,     0.98648,     0.98645,     0.98642,     0.98639,     0.98636,     0.98633,      0.9863,     0.98627,     0.98625,     0.98622,     0.98619,     0.98616,     0.98613,      0.9861,     0.98607,\n",
       "            0.98604,     0.98604,     0.98604,     0.98604,     0.98604,     0.98604,     0.98604,     0.98604,     0.98604,       0.986,     0.98587,     0.98575,     0.98562,     0.98549,     0.98536,     0.98523,     0.98505,     0.98487,      0.9847,     0.98452,     0.98448,     0.98448,     0.98448,\n",
       "            0.98448,     0.98448,     0.98448,     0.98448,     0.98448,     0.98448,     0.98448,     0.98448,     0.98448,     0.98448,     0.98448,     0.98448,     0.98448,     0.98448,     0.98448,     0.98448,     0.98448,     0.98448,     0.98448,     0.98448,     0.98448,     0.98448,     0.98448,\n",
       "            0.98448,     0.98448,     0.98448,     0.98448,     0.98448,     0.98448,     0.98448,     0.98438,     0.98421,     0.98405,     0.98388,     0.98371,     0.98371,     0.98371,     0.98371,     0.98371,     0.98371,     0.98371,     0.98371,     0.98371,     0.98371,     0.98371,     0.98371,\n",
       "            0.98371,     0.98371,     0.98371,     0.98371,     0.98371,     0.98368,     0.98359,     0.98351,     0.98343,     0.98335,     0.98327,     0.98319,      0.9831,     0.98302,     0.98294,      0.9829,     0.98287,     0.98283,     0.98279,     0.98276,     0.98272,     0.98269,     0.98265,\n",
       "            0.98261,     0.98258,     0.98254,     0.98251,     0.98247,     0.98244,      0.9824,     0.98236,     0.98233,     0.98229,     0.98226,     0.98222,     0.98219,     0.98216,     0.98216,     0.98216,     0.98216,     0.98216,     0.98216,     0.98216,     0.98216,     0.98216,     0.98216,\n",
       "            0.98216,     0.98216,     0.98216,     0.98216,     0.98216,     0.98216,     0.98183,     0.98143,     0.98138,     0.98138,     0.98138,     0.98138,     0.98138,     0.98138,     0.98138,     0.98138,     0.98138,     0.98138,     0.98138,     0.98138,     0.98138,      0.9812,      0.9808,\n",
       "            0.98058,     0.98053,     0.98048,     0.98043,     0.98038,     0.98033,     0.98028,     0.98023,     0.98018,     0.98013,     0.98008,     0.98003,     0.97998,     0.97993,     0.97988,     0.97983,     0.97959,     0.97933,     0.97906,     0.97867,     0.97828,     0.97814,     0.97801,\n",
       "            0.97788,     0.97775,     0.97761,     0.97744,     0.97704,     0.97672,     0.97668,     0.97663,     0.97659,     0.97655,     0.97651,     0.97647,     0.97642,     0.97638,     0.97634,      0.9763,     0.97626,     0.97622,     0.97617,     0.97613,     0.97609,     0.97605,     0.97601,\n",
       "            0.97596,     0.97587,     0.97576,     0.97565,     0.97553,     0.97542,     0.97531,     0.97519,     0.97484,     0.97444,      0.9744,      0.9744,      0.9744,      0.9744,      0.9744,      0.9744,      0.9744,      0.9744,      0.9744,      0.9744,      0.9744,      0.9744,      0.9744,\n",
       "             0.9744,     0.97438,     0.97432,     0.97425,     0.97418,     0.97412,     0.97405,     0.97398,     0.97392,     0.97385,     0.97379,     0.97372,     0.97365,     0.97359,     0.97352,     0.97345,     0.97339,     0.97332,     0.97326,     0.97319,     0.97312,     0.97306,     0.97299,\n",
       "            0.97292,     0.97286,      0.9728,     0.97274,     0.97268,     0.97262,     0.97256,      0.9725,     0.97244,     0.97239,     0.97233,     0.97227,     0.97221,     0.97215,     0.97209,     0.97154,     0.97102,     0.97062,     0.96974,     0.96974,     0.96974,     0.96974,     0.96974,\n",
       "            0.96974,     0.96974,     0.96974,     0.96974,     0.96974,     0.96974,     0.96974,     0.96974,     0.96974,     0.96974,     0.96974,     0.96974,     0.96974,     0.96974,     0.96974,     0.96963,     0.96947,     0.96931,     0.96915,     0.96899,     0.96851,     0.96819,     0.96819,\n",
       "            0.96819,     0.96819,     0.96819,     0.96819,     0.96819,     0.96819,     0.96819,     0.96819,     0.96819,     0.96732,     0.96717,     0.96703,     0.96689,     0.96674,     0.96659,     0.96641,     0.96623,     0.96606,     0.96588,     0.96562,     0.96536,     0.96509,     0.96502,\n",
       "            0.96495,     0.96488,     0.96481,     0.96474,     0.96467,     0.96461,     0.96454,     0.96447,      0.9644,     0.96433,     0.96431,     0.96431,     0.96431,     0.96431,     0.96431,     0.96431,     0.96431,     0.96431,     0.96431,     0.96431,     0.96431,     0.96431,     0.96431,\n",
       "            0.96431,     0.96431,     0.96431,     0.96378,     0.96354,     0.96354,     0.96352,     0.96347,     0.96342,     0.96337,     0.96332,     0.96327,     0.96322,     0.96317,     0.96311,     0.96306,     0.96301,     0.96296,     0.96291,     0.96286,     0.96281,     0.96272,      0.9624,\n",
       "            0.96208,     0.96199,     0.96199,     0.96199,     0.96196,     0.96187,     0.96178,      0.9617,     0.96161,     0.96152,     0.96143,     0.96134,     0.96125,      0.9611,     0.96087,     0.96064,     0.96039,     0.95986,     0.95956,      0.9594,     0.95924,     0.95908,     0.95892,\n",
       "            0.95871,     0.95849,     0.95826,     0.95806,     0.95793,      0.9578,     0.95767,     0.95753,      0.9574,     0.95708,     0.95655,     0.95639,     0.95623,     0.95608,     0.95592,     0.95498,      0.9548,     0.95463,     0.95445,     0.95427,     0.95412,     0.95398,     0.95383,\n",
       "            0.95369,     0.95354,     0.95337,     0.95314,     0.95291,     0.95268,      0.9519,      0.9519,      0.9519,      0.9519,     0.95179,     0.95159,     0.95139,     0.95119,     0.95091,     0.95059,     0.95035,     0.95035,     0.95031,     0.95025,     0.95019,     0.95013,     0.95008,\n",
       "            0.95002,     0.94996,     0.94991,     0.94985,     0.94979,     0.94974,     0.94968,     0.94962,     0.94956,     0.94943,     0.94929,     0.94916,     0.94903,      0.9489,     0.94721,     0.94708,     0.94695,     0.94681,     0.94668,     0.94655,     0.94569,     0.94569,     0.94569,\n",
       "            0.94569,     0.94569,     0.94569,      0.9454,     0.94407,     0.94334,     0.94307,     0.94281,     0.94257,     0.94243,      0.9423,     0.94217,     0.94204,      0.9419,     0.94155,      0.9402,     0.94002,     0.93985,     0.93967,     0.93949,      0.9393,      0.9391,      0.9389,\n",
       "             0.9379,     0.93737,     0.93704,     0.93684,     0.93664,     0.93644,     0.93625,     0.93605,     0.93585,     0.93565,     0.93545,     0.93525,     0.93505,     0.93485,     0.93334,     0.93279,     0.93236,     0.93204,     0.93173,     0.93157,     0.93141,     0.93125,     0.93109,\n",
       "            0.93093,     0.93079,     0.93064,      0.9305,     0.93036,     0.93021,     0.92925,     0.92872,     0.92844,     0.92821,     0.92799,     0.92752,     0.92684,     0.92631,     0.92553,     0.92521,     0.92489,     0.92353,     0.92309,     0.92292,     0.92274,     0.92256,     0.92238,\n",
       "            0.92215,     0.92192,      0.9217,     0.91948,     0.91829,     0.91797,     0.91748,     0.91668,     0.91589,     0.91534,     0.91511,     0.91489,     0.91465,     0.91388,     0.91368,     0.91348,     0.91328,     0.91307,     0.91275,     0.91243,     0.91178,     0.91059,     0.91033,\n",
       "            0.91006,     0.90891,     0.90852,     0.90778,     0.90667,     0.90641,     0.90614,     0.90613,     0.90536,     0.90377,     0.90217,     0.90201,     0.90185,     0.90169,     0.90153,     0.89966,     0.89926,     0.89742,     0.89663,     0.89583,     0.89504,     0.89399,     0.89306,\n",
       "            0.89226,     0.89147,     0.88967,     0.88928,     0.88755,     0.88596,     0.88517,     0.88433,     0.88164,     0.87975,     0.87943,     0.87797,      0.8769,     0.87629,     0.87415,     0.87316,     0.87139,     0.86944,     0.86839,     0.86746,     0.86689,     0.86625,     0.86546,\n",
       "            0.86493,     0.86476,     0.86458,      0.8644,      0.8642,     0.86335,     0.85873,     0.85706,     0.85404,     0.85311,     0.85206,     0.84971,     0.84859,     0.84806,     0.84676,     0.84614,     0.84508,     0.84439,     0.84267,      0.8408,      0.8404,     0.83868,     0.83579,\n",
       "            0.83472,     0.83278,     0.83085,     0.83045,     0.82991,     0.82688,     0.82613,      0.8256,     0.82361,     0.82322,     0.82174,     0.81955,     0.81705,     0.81431,     0.81245,     0.81078,     0.80617,     0.80458,     0.80144,     0.79907,     0.79593,     0.79124,     0.79024,\n",
       "            0.78805,     0.78491,     0.78177,     0.77863,     0.77626,     0.77002,     0.76765,     0.76373,     0.75982,     0.75667,      0.7481,     0.74186,     0.73437,     0.72781,     0.71847,     0.71377,      0.7021,     0.68654,     0.66478,     0.63914,     0.57859,     0.52812,     0.43809,\n",
       "             0.3403,     0.24872,     0.16878,    0.098139,    0.056983,    0.039877,     0.01734,   0.0072159,   0.0014548,   0.0011897,  0.00092464,           0,           0,           0,           0,           0,           0,           0,           0,           0,           0,           0,           0,\n",
       "                  0,           0,           0,           0,           0,           0,           0,           0,           0,           0,           0]]), 'Confidence', 'Recall']]\n",
       "fitness: np.float64(0.9597491441865382)\n",
       "keys: ['metrics/precision(B)', 'metrics/recall(B)', 'metrics/mAP50(B)', 'metrics/mAP50-95(B)']\n",
       "maps: array([    0.95603])\n",
       "names: {0: 'Egg'}\n",
       "plot: True\n",
       "results_dict: {'metrics/precision(B)': np.float64(0.9772964364235869), 'metrics/recall(B)': np.float64(0.9821567106283942), 'metrics/mAP50(B)': np.float64(0.9932415584608649), 'metrics/mAP50-95(B)': np.float64(0.956027764822724), 'fitness': np.float64(0.9597491441865382)}\n",
       "save_dir: WindowsPath('runs/detect/egg-counter4')\n",
       "speed: {'preprocess': 0.39686309520177365, 'inference': 4.688374404828383, 'loss': 0.0001559523557911494, 'postprocess': 2.9771577380978713}\n",
       "task: 'detect'"
      ]
     },
     "execution_count": 2,
     "metadata": {},
     "output_type": "execute_result"
    }
   ],
   "source": [
    "# Load a pretrained YOLOv8 model (e.g. 'yolov8s.pt' for small)\n",
    "model = YOLO('yolov8s.pt')  # You can also use yolov8n.pt, yolov8m.pt, etc.\n",
    "\n",
    "# Train the model\n",
    "model.train(\n",
    "    data=\"./EggCounterDatasetV2/data.yaml\",  # Path to your dataset config file\n",
    "    epochs=50,                  # Adjust as needed\n",
    "    imgsz=640,                  # Input image size\n",
    "    name='egg-counter',         # Run name\n",
    "    workers=4,                  # For Colab compatibility\n",
    "    augment=True,               # Enable augmentations\n",
    ")"
   ]
  }
 ],
 "metadata": {
  "kernelspec": {
   "display_name": "Python 3",
   "language": "python",
   "name": "python3"
  },
  "language_info": {
   "codemirror_mode": {
    "name": "ipython",
    "version": 3
   },
   "file_extension": ".py",
   "mimetype": "text/x-python",
   "name": "python",
   "nbconvert_exporter": "python",
   "pygments_lexer": "ipython3",
   "version": "3.13.3"
  }
 },
 "nbformat": 4,
 "nbformat_minor": 2
}
